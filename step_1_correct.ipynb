{
 "cells": [
  {
   "cell_type": "code",
   "execution_count": 1,
   "metadata": {},
   "outputs": [],
   "source": [
    "import re\n",
    "import os\n",
    "from typing import Dict, List, Any\n",
    "\n",
    "from cliff import MetaData, Ruggness\n",
    "from cliff.parser import SeqArgs, SeqParser\n",
    "\n",
    "import sys\n",
    "import os\n",
    "sys.path.append(os.path.join(\".\"))\n",
    "\n",
    "from utils.tradition_fitness import Protein_Landscape\n"
   ]
  },
  {
   "cell_type": "code",
   "execution_count": 2,
   "metadata": {},
   "outputs": [
    {
     "name": "stdout",
     "output_type": "stream",
     "text": [
      "Building Protein Graph for entire dataset\n"
     ]
    },
    {
     "name": "stderr",
     "output_type": "stream",
     "text": [
      "100%|██████████| 78125/78125 [00:34<00:00, 2290.74it/s]\n"
     ]
    },
    {
     "name": "stdout",
     "output_type": "stream",
     "text": [
      "Calculating the number of extrema\n"
     ]
    },
    {
     "name": "stderr",
     "output_type": "stream",
     "text": [
      "100%|██████████| 78125/78125 [00:01<00:00, 58372.38it/s]\n",
      "creating neighbour: 100%|██████████| 13671875/13671875 [00:46<00:00, 292764.33it/s]\n"
     ]
    },
    {
     "name": "stdout",
     "output_type": "stream",
     "text": [
      "Building Protein Graph for entire dataset\n"
     ]
    },
    {
     "name": "stderr",
     "output_type": "stream",
     "text": [
      "100%|██████████| 78125/78125 [00:30<00:00, 2538.41it/s]\n"
     ]
    },
    {
     "name": "stdout",
     "output_type": "stream",
     "text": [
      "Calculating the number of extrema\n"
     ]
    },
    {
     "name": "stderr",
     "output_type": "stream",
     "text": [
      "100%|██████████| 78125/78125 [00:01<00:00, 59688.88it/s]\n",
      "creating neighbour: 100%|██████████| 13671875/13671875 [00:45<00:00, 299986.23it/s]\n"
     ]
    },
    {
     "name": "stdout",
     "output_type": "stream",
     "text": [
      "Building Protein Graph for entire dataset\n"
     ]
    },
    {
     "name": "stderr",
     "output_type": "stream",
     "text": [
      "100%|██████████| 78125/78125 [00:32<00:00, 2436.57it/s]\n"
     ]
    },
    {
     "name": "stdout",
     "output_type": "stream",
     "text": [
      "Calculating the number of extrema\n"
     ]
    },
    {
     "name": "stderr",
     "output_type": "stream",
     "text": [
      "100%|██████████| 78125/78125 [00:01<00:00, 57498.64it/s]\n",
      "creating neighbour: 100%|██████████| 13671875/13671875 [00:45<00:00, 300411.27it/s]\n"
     ]
    },
    {
     "name": "stdout",
     "output_type": "stream",
     "text": [
      "Building Protein Graph for entire dataset\n"
     ]
    },
    {
     "name": "stderr",
     "output_type": "stream",
     "text": [
      "100%|██████████| 78125/78125 [00:31<00:00, 2478.76it/s]\n"
     ]
    },
    {
     "name": "stdout",
     "output_type": "stream",
     "text": [
      "Calculating the number of extrema\n"
     ]
    },
    {
     "name": "stderr",
     "output_type": "stream",
     "text": [
      "100%|██████████| 78125/78125 [00:01<00:00, 59273.49it/s]\n",
      "creating neighbour: 100%|██████████| 13671875/13671875 [00:43<00:00, 311435.25it/s]\n"
     ]
    },
    {
     "name": "stdout",
     "output_type": "stream",
     "text": [
      "Building Protein Graph for entire dataset\n"
     ]
    },
    {
     "name": "stderr",
     "output_type": "stream",
     "text": [
      "100%|██████████| 78125/78125 [00:31<00:00, 2517.76it/s]\n"
     ]
    },
    {
     "name": "stdout",
     "output_type": "stream",
     "text": [
      "Calculating the number of extrema\n"
     ]
    },
    {
     "name": "stderr",
     "output_type": "stream",
     "text": [
      "100%|██████████| 78125/78125 [00:01<00:00, 59988.48it/s]\n",
      "creating neighbour: 100%|██████████| 13671875/13671875 [00:46<00:00, 292964.68it/s]\n"
     ]
    },
    {
     "name": "stdout",
     "output_type": "stream",
     "text": [
      "Building Protein Graph for entire dataset\n"
     ]
    },
    {
     "name": "stderr",
     "output_type": "stream",
     "text": [
      "100%|██████████| 78125/78125 [00:32<00:00, 2414.52it/s]\n"
     ]
    },
    {
     "name": "stdout",
     "output_type": "stream",
     "text": [
      "Calculating the number of extrema\n"
     ]
    },
    {
     "name": "stderr",
     "output_type": "stream",
     "text": [
      "100%|██████████| 78125/78125 [00:01<00:00, 59577.63it/s]\n",
      "creating neighbour: 100%|██████████| 13671875/13671875 [00:43<00:00, 313608.58it/s]\n"
     ]
    },
    {
     "name": "stdout",
     "output_type": "stream",
     "text": [
      "Building Protein Graph for entire dataset\n"
     ]
    },
    {
     "name": "stderr",
     "output_type": "stream",
     "text": [
      "100%|██████████| 78125/78125 [00:32<00:00, 2405.18it/s]\n"
     ]
    },
    {
     "name": "stdout",
     "output_type": "stream",
     "text": [
      "Calculating the number of extrema\n"
     ]
    },
    {
     "name": "stderr",
     "output_type": "stream",
     "text": [
      "100%|██████████| 78125/78125 [00:01<00:00, 59179.57it/s]\n",
      "creating neighbour: 100%|██████████| 13671875/13671875 [00:47<00:00, 286737.43it/s]\n"
     ]
    },
    {
     "name": "stdout",
     "output_type": "stream",
     "text": [
      "Building Protein Graph for entire dataset\n"
     ]
    },
    {
     "name": "stderr",
     "output_type": "stream",
     "text": [
      "100%|██████████| 78125/78125 [00:31<00:00, 2483.18it/s]\n"
     ]
    },
    {
     "name": "stdout",
     "output_type": "stream",
     "text": [
      "Calculating the number of extrema\n"
     ]
    },
    {
     "name": "stderr",
     "output_type": "stream",
     "text": [
      "100%|██████████| 78125/78125 [00:01<00:00, 59938.23it/s]\n",
      "creating neighbour: 100%|██████████| 13671875/13671875 [00:45<00:00, 302214.73it/s]\n"
     ]
    },
    {
     "name": "stdout",
     "output_type": "stream",
     "text": [
      "Building Protein Graph for entire dataset\n"
     ]
    },
    {
     "name": "stderr",
     "output_type": "stream",
     "text": [
      "100%|██████████| 78125/78125 [00:27<00:00, 2860.49it/s]\n"
     ]
    },
    {
     "name": "stdout",
     "output_type": "stream",
     "text": [
      "Calculating the number of extrema\n"
     ]
    },
    {
     "name": "stderr",
     "output_type": "stream",
     "text": [
      "100%|██████████| 78125/78125 [00:01<00:00, 58395.05it/s]\n",
      "creating neighbour: 100%|██████████| 13671875/13671875 [00:43<00:00, 311035.93it/s]\n"
     ]
    },
    {
     "name": "stdout",
     "output_type": "stream",
     "text": [
      "Building Protein Graph for entire dataset\n"
     ]
    },
    {
     "name": "stderr",
     "output_type": "stream",
     "text": [
      "100%|██████████| 78125/78125 [00:29<00:00, 2657.45it/s]\n"
     ]
    },
    {
     "name": "stdout",
     "output_type": "stream",
     "text": [
      "Calculating the number of extrema\n"
     ]
    },
    {
     "name": "stderr",
     "output_type": "stream",
     "text": [
      "100%|██████████| 78125/78125 [00:01<00:00, 54250.25it/s]\n",
      "creating neighbour: 100%|██████████| 13671875/13671875 [00:46<00:00, 292807.65it/s]\n"
     ]
    },
    {
     "name": "stdout",
     "output_type": "stream",
     "text": [
      "Building Protein Graph for entire dataset\n"
     ]
    },
    {
     "name": "stderr",
     "output_type": "stream",
     "text": [
      "100%|██████████| 78125/78125 [00:36<00:00, 2153.95it/s]\n"
     ]
    },
    {
     "name": "stdout",
     "output_type": "stream",
     "text": [
      "Calculating the number of extrema\n"
     ]
    },
    {
     "name": "stderr",
     "output_type": "stream",
     "text": [
      "100%|██████████| 78125/78125 [00:01<00:00, 47619.80it/s]\n",
      "creating neighbour: 100%|██████████| 13671875/13671875 [00:47<00:00, 287851.82it/s]\n"
     ]
    },
    {
     "name": "stdout",
     "output_type": "stream",
     "text": [
      "Building Protein Graph for entire dataset\n"
     ]
    },
    {
     "name": "stderr",
     "output_type": "stream",
     "text": [
      "100%|██████████| 78125/78125 [00:31<00:00, 2481.53it/s]\n"
     ]
    },
    {
     "name": "stdout",
     "output_type": "stream",
     "text": [
      "Calculating the number of extrema\n"
     ]
    },
    {
     "name": "stderr",
     "output_type": "stream",
     "text": [
      "100%|██████████| 78125/78125 [00:01<00:00, 59315.06it/s]\n",
      "creating neighbour: 100%|██████████| 13671875/13671875 [00:42<00:00, 319958.06it/s]\n"
     ]
    },
    {
     "name": "stdout",
     "output_type": "stream",
     "text": [
      "Building Protein Graph for entire dataset\n"
     ]
    },
    {
     "name": "stderr",
     "output_type": "stream",
     "text": [
      "100%|██████████| 78125/78125 [00:32<00:00, 2383.68it/s]\n"
     ]
    },
    {
     "name": "stdout",
     "output_type": "stream",
     "text": [
      "Calculating the number of extrema\n"
     ]
    },
    {
     "name": "stderr",
     "output_type": "stream",
     "text": [
      "100%|██████████| 78125/78125 [00:01<00:00, 59766.99it/s]\n",
      "creating neighbour: 100%|██████████| 13671875/13671875 [00:47<00:00, 288673.91it/s]\n"
     ]
    },
    {
     "name": "stdout",
     "output_type": "stream",
     "text": [
      "Building Protein Graph for entire dataset\n"
     ]
    },
    {
     "name": "stderr",
     "output_type": "stream",
     "text": [
      "100%|██████████| 78125/78125 [00:34<00:00, 2268.48it/s]\n"
     ]
    },
    {
     "name": "stdout",
     "output_type": "stream",
     "text": [
      "Calculating the number of extrema\n"
     ]
    },
    {
     "name": "stderr",
     "output_type": "stream",
     "text": [
      "100%|██████████| 78125/78125 [00:01<00:00, 58104.94it/s]\n",
      "creating neighbour: 100%|██████████| 13671875/13671875 [00:44<00:00, 304829.50it/s]\n"
     ]
    },
    {
     "name": "stdout",
     "output_type": "stream",
     "text": [
      "Building Protein Graph for entire dataset\n"
     ]
    },
    {
     "name": "stderr",
     "output_type": "stream",
     "text": [
      "100%|██████████| 78125/78125 [00:31<00:00, 2443.87it/s]\n"
     ]
    },
    {
     "name": "stdout",
     "output_type": "stream",
     "text": [
      "Calculating the number of extrema\n"
     ]
    },
    {
     "name": "stderr",
     "output_type": "stream",
     "text": [
      "100%|██████████| 78125/78125 [00:01<00:00, 59405.26it/s]\n",
      "creating neighbour: 100%|██████████| 13671875/13671875 [00:44<00:00, 305183.63it/s]\n"
     ]
    },
    {
     "name": "stdout",
     "output_type": "stream",
     "text": [
      "Building Protein Graph for entire dataset\n"
     ]
    },
    {
     "name": "stderr",
     "output_type": "stream",
     "text": [
      "100%|██████████| 78125/78125 [00:34<00:00, 2274.31it/s]\n"
     ]
    },
    {
     "name": "stdout",
     "output_type": "stream",
     "text": [
      "Calculating the number of extrema\n"
     ]
    },
    {
     "name": "stderr",
     "output_type": "stream",
     "text": [
      "100%|██████████| 78125/78125 [00:01<00:00, 59257.50it/s]\n",
      "creating neighbour: 100%|██████████| 13671875/13671875 [00:47<00:00, 287377.23it/s]\n"
     ]
    },
    {
     "name": "stdout",
     "output_type": "stream",
     "text": [
      "Building Protein Graph for entire dataset\n"
     ]
    },
    {
     "name": "stderr",
     "output_type": "stream",
     "text": [
      "100%|██████████| 78125/78125 [00:34<00:00, 2287.57it/s]\n"
     ]
    },
    {
     "name": "stdout",
     "output_type": "stream",
     "text": [
      "Calculating the number of extrema\n"
     ]
    },
    {
     "name": "stderr",
     "output_type": "stream",
     "text": [
      "100%|██████████| 78125/78125 [00:01<00:00, 58723.62it/s]\n",
      "creating neighbour: 100%|██████████| 13671875/13671875 [00:44<00:00, 308755.75it/s]\n"
     ]
    },
    {
     "name": "stdout",
     "output_type": "stream",
     "text": [
      "Building Protein Graph for entire dataset\n"
     ]
    },
    {
     "name": "stderr",
     "output_type": "stream",
     "text": [
      "100%|██████████| 78125/78125 [00:33<00:00, 2324.86it/s]\n"
     ]
    },
    {
     "name": "stdout",
     "output_type": "stream",
     "text": [
      "Calculating the number of extrema\n"
     ]
    },
    {
     "name": "stderr",
     "output_type": "stream",
     "text": [
      "100%|██████████| 78125/78125 [00:01<00:00, 59145.45it/s]\n",
      "creating neighbour: 100%|██████████| 13671875/13671875 [00:47<00:00, 287714.43it/s]\n"
     ]
    },
    {
     "name": "stdout",
     "output_type": "stream",
     "text": [
      "Building Protein Graph for entire dataset\n"
     ]
    },
    {
     "name": "stderr",
     "output_type": "stream",
     "text": [
      "100%|██████████| 78125/78125 [00:33<00:00, 2315.32it/s]\n"
     ]
    },
    {
     "name": "stdout",
     "output_type": "stream",
     "text": [
      "Calculating the number of extrema\n"
     ]
    },
    {
     "name": "stderr",
     "output_type": "stream",
     "text": [
      "100%|██████████| 78125/78125 [00:01<00:00, 56568.49it/s]\n",
      "creating neighbour: 100%|██████████| 13671875/13671875 [00:46<00:00, 291651.25it/s]\n"
     ]
    },
    {
     "name": "stdout",
     "output_type": "stream",
     "text": [
      "Building Protein Graph for entire dataset\n"
     ]
    },
    {
     "name": "stderr",
     "output_type": "stream",
     "text": [
      "100%|██████████| 78125/78125 [00:30<00:00, 2576.59it/s]\n"
     ]
    },
    {
     "name": "stdout",
     "output_type": "stream",
     "text": [
      "Calculating the number of extrema\n"
     ]
    },
    {
     "name": "stderr",
     "output_type": "stream",
     "text": [
      "100%|██████████| 78125/78125 [00:01<00:00, 59574.55it/s]\n",
      "creating neighbour: 100%|██████████| 13671875/13671875 [00:44<00:00, 310394.10it/s]\n"
     ]
    },
    {
     "name": "stdout",
     "output_type": "stream",
     "text": [
      "Building Protein Graph for entire dataset\n"
     ]
    },
    {
     "name": "stderr",
     "output_type": "stream",
     "text": [
      "100%|██████████| 78125/78125 [00:27<00:00, 2891.91it/s]\n"
     ]
    },
    {
     "name": "stdout",
     "output_type": "stream",
     "text": [
      "Calculating the number of extrema\n"
     ]
    },
    {
     "name": "stderr",
     "output_type": "stream",
     "text": [
      "100%|██████████| 78125/78125 [00:01<00:00, 57969.89it/s]\n",
      "creating neighbour: 100%|██████████| 13671875/13671875 [00:44<00:00, 304007.88it/s]\n"
     ]
    },
    {
     "name": "stdout",
     "output_type": "stream",
     "text": [
      "Building Protein Graph for entire dataset\n"
     ]
    },
    {
     "name": "stderr",
     "output_type": "stream",
     "text": [
      "100%|██████████| 78125/78125 [00:28<00:00, 2778.16it/s]\n"
     ]
    },
    {
     "name": "stdout",
     "output_type": "stream",
     "text": [
      "Calculating the number of extrema\n"
     ]
    },
    {
     "name": "stderr",
     "output_type": "stream",
     "text": [
      "100%|██████████| 78125/78125 [00:01<00:00, 53947.82it/s]\n",
      "creating neighbour: 100%|██████████| 13671875/13671875 [00:46<00:00, 296347.70it/s]\n"
     ]
    },
    {
     "name": "stdout",
     "output_type": "stream",
     "text": [
      "Building Protein Graph for entire dataset\n"
     ]
    },
    {
     "name": "stderr",
     "output_type": "stream",
     "text": [
      "100%|██████████| 78125/78125 [00:34<00:00, 2254.00it/s]\n"
     ]
    },
    {
     "name": "stdout",
     "output_type": "stream",
     "text": [
      "Calculating the number of extrema\n"
     ]
    },
    {
     "name": "stderr",
     "output_type": "stream",
     "text": [
      "100%|██████████| 78125/78125 [00:01<00:00, 57757.13it/s]\n",
      "creating neighbour: 100%|██████████| 13671875/13671875 [00:50<00:00, 269108.40it/s]\n"
     ]
    },
    {
     "name": "stdout",
     "output_type": "stream",
     "text": [
      "Building Protein Graph for entire dataset\n"
     ]
    },
    {
     "name": "stderr",
     "output_type": "stream",
     "text": [
      "100%|██████████| 78125/78125 [00:33<00:00, 2358.23it/s]\n"
     ]
    },
    {
     "name": "stdout",
     "output_type": "stream",
     "text": [
      "Calculating the number of extrema\n"
     ]
    },
    {
     "name": "stderr",
     "output_type": "stream",
     "text": [
      "100%|██████████| 78125/78125 [00:01<00:00, 59211.89it/s]\n",
      "creating neighbour: 100%|██████████| 13671875/13671875 [00:44<00:00, 310082.37it/s]\n"
     ]
    },
    {
     "name": "stdout",
     "output_type": "stream",
     "text": [
      "Building Protein Graph for entire dataset\n"
     ]
    },
    {
     "name": "stderr",
     "output_type": "stream",
     "text": [
      "100%|██████████| 78125/78125 [00:31<00:00, 2511.39it/s]\n"
     ]
    },
    {
     "name": "stdout",
     "output_type": "stream",
     "text": [
      "Calculating the number of extrema\n"
     ]
    },
    {
     "name": "stderr",
     "output_type": "stream",
     "text": [
      "100%|██████████| 78125/78125 [00:01<00:00, 60027.66it/s]\n",
      "creating neighbour: 100%|██████████| 13671875/13671875 [00:42<00:00, 319392.92it/s]\n"
     ]
    },
    {
     "name": "stdout",
     "output_type": "stream",
     "text": [
      "Building Protein Graph for entire dataset\n"
     ]
    },
    {
     "name": "stderr",
     "output_type": "stream",
     "text": [
      "100%|██████████| 78125/78125 [00:32<00:00, 2377.94it/s]\n"
     ]
    },
    {
     "name": "stdout",
     "output_type": "stream",
     "text": [
      "Calculating the number of extrema\n"
     ]
    },
    {
     "name": "stderr",
     "output_type": "stream",
     "text": [
      "100%|██████████| 78125/78125 [00:01<00:00, 57139.49it/s]\n",
      "creating neighbour: 100%|██████████| 13671875/13671875 [00:45<00:00, 298241.38it/s]\n"
     ]
    },
    {
     "name": "stdout",
     "output_type": "stream",
     "text": [
      "Building Protein Graph for entire dataset\n"
     ]
    },
    {
     "name": "stderr",
     "output_type": "stream",
     "text": [
      "100%|██████████| 78125/78125 [00:31<00:00, 2499.33it/s]\n"
     ]
    },
    {
     "name": "stdout",
     "output_type": "stream",
     "text": [
      "Calculating the number of extrema\n"
     ]
    },
    {
     "name": "stderr",
     "output_type": "stream",
     "text": [
      "100%|██████████| 78125/78125 [00:01<00:00, 59326.65it/s]\n",
      "creating neighbour: 100%|██████████| 13671875/13671875 [00:42<00:00, 319369.28it/s]\n"
     ]
    },
    {
     "name": "stdout",
     "output_type": "stream",
     "text": [
      "Building Protein Graph for entire dataset\n"
     ]
    },
    {
     "name": "stderr",
     "output_type": "stream",
     "text": [
      "100%|██████████| 78125/78125 [00:31<00:00, 2518.67it/s]\n"
     ]
    },
    {
     "name": "stdout",
     "output_type": "stream",
     "text": [
      "Calculating the number of extrema\n"
     ]
    },
    {
     "name": "stderr",
     "output_type": "stream",
     "text": [
      "100%|██████████| 78125/78125 [00:01<00:00, 59015.07it/s]\n",
      "creating neighbour: 100%|██████████| 13671875/13671875 [00:47<00:00, 287529.72it/s]\n"
     ]
    },
    {
     "name": "stdout",
     "output_type": "stream",
     "text": [
      "Building Protein Graph for entire dataset\n"
     ]
    },
    {
     "name": "stderr",
     "output_type": "stream",
     "text": [
      "100%|██████████| 78125/78125 [00:30<00:00, 2598.74it/s]\n"
     ]
    },
    {
     "name": "stdout",
     "output_type": "stream",
     "text": [
      "Calculating the number of extrema\n"
     ]
    },
    {
     "name": "stderr",
     "output_type": "stream",
     "text": [
      "100%|██████████| 78125/78125 [00:01<00:00, 55819.37it/s]\n",
      "creating neighbour: 100%|██████████| 13671875/13671875 [00:42<00:00, 320862.07it/s]\n"
     ]
    },
    {
     "name": "stdout",
     "output_type": "stream",
     "text": [
      "Building Protein Graph for entire dataset\n"
     ]
    },
    {
     "name": "stderr",
     "output_type": "stream",
     "text": [
      "100%|██████████| 78125/78125 [00:31<00:00, 2518.58it/s]\n"
     ]
    },
    {
     "name": "stdout",
     "output_type": "stream",
     "text": [
      "Calculating the number of extrema\n"
     ]
    },
    {
     "name": "stderr",
     "output_type": "stream",
     "text": [
      "100%|██████████| 78125/78125 [00:01<00:00, 59828.72it/s]\n",
      "creating neighbour: 100%|██████████| 13671875/13671875 [00:45<00:00, 298941.20it/s]\n"
     ]
    },
    {
     "name": "stdout",
     "output_type": "stream",
     "text": [
      "Building Protein Graph for entire dataset\n"
     ]
    },
    {
     "name": "stderr",
     "output_type": "stream",
     "text": [
      "100%|██████████| 78125/78125 [00:30<00:00, 2526.64it/s]\n"
     ]
    },
    {
     "name": "stdout",
     "output_type": "stream",
     "text": [
      "Calculating the number of extrema\n"
     ]
    },
    {
     "name": "stderr",
     "output_type": "stream",
     "text": [
      "100%|██████████| 78125/78125 [00:01<00:00, 56798.36it/s]\n",
      "creating neighbour: 100%|██████████| 13671875/13671875 [00:44<00:00, 305483.34it/s]\n"
     ]
    },
    {
     "name": "stdout",
     "output_type": "stream",
     "text": [
      "Building Protein Graph for entire dataset\n"
     ]
    },
    {
     "name": "stderr",
     "output_type": "stream",
     "text": [
      "100%|██████████| 78125/78125 [00:30<00:00, 2590.85it/s]\n"
     ]
    },
    {
     "name": "stdout",
     "output_type": "stream",
     "text": [
      "Calculating the number of extrema\n"
     ]
    },
    {
     "name": "stderr",
     "output_type": "stream",
     "text": [
      "100%|██████████| 78125/78125 [00:01<00:00, 58921.95it/s]\n",
      "creating neighbour: 100%|██████████| 13671875/13671875 [00:44<00:00, 307523.11it/s]\n"
     ]
    },
    {
     "name": "stdout",
     "output_type": "stream",
     "text": [
      "Building Protein Graph for entire dataset\n"
     ]
    },
    {
     "name": "stderr",
     "output_type": "stream",
     "text": [
      "100%|██████████| 78125/78125 [00:30<00:00, 2547.21it/s]\n"
     ]
    },
    {
     "name": "stdout",
     "output_type": "stream",
     "text": [
      "Calculating the number of extrema\n"
     ]
    },
    {
     "name": "stderr",
     "output_type": "stream",
     "text": [
      "100%|██████████| 78125/78125 [00:01<00:00, 57352.83it/s]\n",
      "creating neighbour: 100%|██████████| 13671875/13671875 [00:44<00:00, 308349.37it/s]\n"
     ]
    },
    {
     "name": "stdout",
     "output_type": "stream",
     "text": [
      "Building Protein Graph for entire dataset\n"
     ]
    },
    {
     "name": "stderr",
     "output_type": "stream",
     "text": [
      "100%|██████████| 78125/78125 [00:32<00:00, 2368.99it/s]\n"
     ]
    },
    {
     "name": "stdout",
     "output_type": "stream",
     "text": [
      "Calculating the number of extrema\n"
     ]
    },
    {
     "name": "stderr",
     "output_type": "stream",
     "text": [
      "100%|██████████| 78125/78125 [00:01<00:00, 57812.20it/s]\n",
      "creating neighbour: 100%|██████████| 13671875/13671875 [00:46<00:00, 295121.46it/s]\n"
     ]
    },
    {
     "name": "stdout",
     "output_type": "stream",
     "text": [
      "Building Protein Graph for entire dataset\n"
     ]
    },
    {
     "name": "stderr",
     "output_type": "stream",
     "text": [
      "100%|██████████| 78125/78125 [00:30<00:00, 2544.69it/s]\n"
     ]
    },
    {
     "name": "stdout",
     "output_type": "stream",
     "text": [
      "Calculating the number of extrema\n"
     ]
    },
    {
     "name": "stderr",
     "output_type": "stream",
     "text": [
      "100%|██████████| 78125/78125 [00:01<00:00, 59163.82it/s]\n",
      "creating neighbour: 100%|██████████| 13671875/13671875 [00:45<00:00, 303684.41it/s]\n"
     ]
    }
   ],
   "source": [
    "import string\n",
    "import pandas as pd\n",
    "\n",
    "FILEEXPR = re.compile(\"R(\\d+)L(\\d+)E(\\d+)V(\\d+).csv\")\n",
    "baseDir = \"Correct\"\n",
    "\n",
    "algo_rug_row_list: List[Dict[str, Any]] = []\n",
    "\n",
    "\n",
    "for file in os.listdir(baseDir):\n",
    "    ruggness, length, library_len, index = FILEEXPR.match(file).groups()\n",
    "    ruggness = int(ruggness)\n",
    "    library_len = int(library_len)\n",
    "    \n",
    "    library = list(string.ascii_uppercase[:library_len])\n",
    "    \n",
    "    path = os.path.join(baseDir, file)\n",
    "    \n",
    "    model = Protein_Landscape(csv_path=path, amino_acids=library)\n",
    "    algo_rug_row_list.append({\"algo\":\"extre\", \"R\": ruggness, \"index\":index, \"val\":model.extrema_ruggedness})\n",
    "    algo_rug_row_list.append({\"algo\":\"rs\", \"R\": ruggness, \"index\":index, \"val\":model.RS_ruggedness})\n",
    "    \n",
    "    args = SeqArgs()\n",
    "    args.sequence_label = 'Sequence'\n",
    "    args.fitness_label = 'Fitness'\n",
    "    scenery = SeqParser.parse(path, args)\n",
    "    meta = MetaData(scenery, library)\n",
    "\n",
    "    calculator = Ruggness(meta)\n",
    "    rug = calculator.calculate()\n",
    "    algo_rug_row_list.append({\"algo\":\"cliff\", \"R\": ruggness, \"index\":index, \"val\":rug})\n",
    "    \n",
    "algo_rug_range = pd.DataFrame(algo_rug_row_list, columns=['algo', 'R', \"index\", \"val\"])"
   ]
  },
  {
   "cell_type": "code",
   "execution_count": 3,
   "metadata": {},
   "outputs": [
    {
     "data": {
      "text/plain": [
       "[Text(0, 0, 'A0'),\n",
       " Text(1, 0, 'A1'),\n",
       " Text(2, 0, 'A2'),\n",
       " Text(3, 0, 'A3'),\n",
       " Text(4, 0, 'A4'),\n",
       " Text(5, 0, 'A5'),\n",
       " Text(6, 0, 'A6')]"
      ]
     },
     "execution_count": 3,
     "metadata": {},
     "output_type": "execute_result"
    },
    {
     "data": {
      "image/png": "[encoded data removed]",
      "text/plain": [
       "<Figure size 600x900 with 3 Axes>"
      ]
     },
     "metadata": {},
     "output_type": "display_data"
    }
   ],
   "source": [
    "import seaborn as sns\n",
    "import matplotlib.pyplot as plt\n",
    "\n",
    "df = algo_rug_range\n",
    "\n",
    "plt.rcParams[\"font.sans-serif\"] = [\"SimHei\"]\n",
    "plt.rcParams[\"axes.unicode_minus\"] = False\n",
    "\n",
    "plt.subplots(3,1, constrained_layout=True, figsize=(6, 9))\n",
    "\n",
    "plt.subplot(3,1,1)\n",
    "ax = sns.boxplot(x=\"R\", y=\"val\", data=df[df[\"algo\"] == \"cliff\"], palette=\"pastel\", width=0.5)\n",
    "ax.set_title(\"cliff算法在A0-A6下评估粗糙度\")\n",
    "ax.set(\n",
    "    xlabel='测试数据集', \n",
    "    ylabel='粗糙度'\n",
    ")\n",
    "labels = [f\"A{i}\" for i in range(7)]\n",
    "ax.set_xticklabels(labels)\n",
    "\n",
    "plt.subplot(3,1,2)\n",
    "ax = sns.boxplot(x=\"R\", y=\"val\", data=df[df[\"algo\"] == \"extre\"], palette=\"pastel\", width=0.5)\n",
    "ax.set_title(\"极值法在A0-A6下评估粗糙度\")\n",
    "ax.set(\n",
    "    xlabel='测试数据集', \n",
    "    ylabel='粗糙度'\n",
    ")\n",
    "labels = [f\"A{i}\" for i in range(7)]\n",
    "ax.set_xticklabels(labels)\n",
    "\n",
    "plt.subplot(3,1,3)\n",
    "ax = sns.boxplot(x=\"R\", y=\"val\", data=df[df[\"algo\"] == \"rs\"], palette=\"pastel\", width=0.5)\n",
    "ax.set_title(\"RS法在A0-A6下评估粗糙度\")\n",
    "ax.set(\n",
    "    xlabel='测试数据集', \n",
    "    ylabel='粗糙度'\n",
    ")\n",
    "labels = [f\"A{i}\" for i in range(7)]\n",
    "ax.set_xticklabels(labels)"
   ]
  }
 ],
 "metadata": {
  "kernelspec": {
   "display_name": "cliff",
   "language": "python",
   "name": "python3"
  },
  "language_info": {
   "codemirror_mode": {
    "name": "ipython",
    "version": 3
   },
   "file_extension": ".py",
   "mimetype": "text/x-python",
   "name": "python",
   "nbconvert_exporter": "python",
   "pygments_lexer": "ipython3",
   "version": "3.10.10"
  },
  "orig_nbformat": 4
 },
 "nbformat": 4,
 "nbformat_minor": 2
}

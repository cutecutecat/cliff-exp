{
 "cells": [
  {
   "cell_type": "code",
   "execution_count": 1,
   "metadata": {},
   "outputs": [],
   "source": [
    "import re\n",
    "import os\n",
    "from typing import Dict, List, Any\n",
    "\n",
    "from cliff import MetaData, Ruggness\n",
    "from cliff.parser import SeqArgs, SeqParser\n",
    "\n",
    "import sys\n",
    "import os\n",
    "\n",
    "sys.path.append(os.path.join(\".\"))\n",
    "\n",
    "from utils.tradition_fitness import Protein_Landscape\n"
   ]
  },
  {
   "cell_type": "code",
   "execution_count": 2,
   "metadata": {},
   "outputs": [
    {
     "name": "stdout",
     "output_type": "stream",
     "text": [
      "['A', 'B', 'C', 'D', 'E'] Error/R6DSI2.csv 6 S 2\n",
      "Building Protein Graph for entire dataset\n"
     ]
    },
    {
     "name": "stderr",
     "output_type": "stream",
     "text": [
      "100%|██████████| 1160/1160 [00:00<00:00, 3214.81it/s]\n"
     ]
    },
    {
     "name": "stdout",
     "output_type": "stream",
     "text": [
      "Calculating the number of extrema\n"
     ]
    },
    {
     "name": "stderr",
     "output_type": "stream",
     "text": [
      "100%|██████████| 1160/1160 [00:00<00:00, 31258.14it/s]\n",
      "creating neighbour: 100%|██████████| 203000/203000 [00:00<00:00, 352961.93it/s]"
     ]
    },
    {
     "name": "stdout",
     "output_type": "stream",
     "text": [
      "['A', 'B', 'C', 'D', 'E'] Error/R3D9I4.csv 3 9 4\n",
      "Building Protein Graph for entire dataset\n"
     ]
    },
    {
     "name": "stderr",
     "output_type": "stream",
     "text": [
      "\n",
      "100%|██████████| 7813/7813 [00:02<00:00, 2984.22it/s]\n"
     ]
    },
    {
     "name": "stdout",
     "output_type": "stream",
     "text": [
      "Calculating the number of extrema\n"
     ]
    },
    {
     "name": "stderr",
     "output_type": "stream",
     "text": [
      "100%|██████████| 7813/7813 [00:00<00:00, 37928.22it/s]\n",
      "creating neighbour: 100%|██████████| 1367275/1367275 [00:02<00:00, 459341.90it/s]\n"
     ]
    },
    {
     "name": "stdout",
     "output_type": "stream",
     "text": [
      "['A', 'B', 'C', 'D', 'E'] Error/R3D5I4.csv 3 5 4\n",
      "Building Protein Graph for entire dataset\n"
     ]
    },
    {
     "name": "stderr",
     "output_type": "stream",
     "text": [
      "100%|██████████| 39063/39063 [00:15<00:00, 2486.38it/s]\n"
     ]
    },
    {
     "name": "stdout",
     "output_type": "stream",
     "text": [
      "Calculating the number of extrema\n"
     ]
    },
    {
     "name": "stderr",
     "output_type": "stream",
     "text": [
      "100%|██████████| 39063/39063 [00:00<00:00, 58944.11it/s]\n",
      "creating neighbour: 100%|██████████| 6836025/6836025 [00:18<00:00, 376160.82it/s]\n"
     ]
    },
    {
     "name": "stdout",
     "output_type": "stream",
     "text": [
      "['A', 'B', 'C', 'D', 'E'] Error/R0D9I2.csv 0 9 2\n",
      "Building Protein Graph for entire dataset\n"
     ]
    },
    {
     "name": "stderr",
     "output_type": "stream",
     "text": [
      "100%|██████████| 7813/7813 [00:02<00:00, 3356.29it/s]\n"
     ]
    },
    {
     "name": "stdout",
     "output_type": "stream",
     "text": [
      "Calculating the number of extrema\n"
     ]
    },
    {
     "name": "stderr",
     "output_type": "stream",
     "text": [
      "100%|██████████| 7813/7813 [00:00<00:00, 65216.72it/s]\n",
      "creating neighbour: 100%|██████████| 1367275/1367275 [00:02<00:00, 542474.86it/s]\n"
     ]
    },
    {
     "name": "stdout",
     "output_type": "stream",
     "text": [
      "['A', 'B', 'C', 'D', 'E'] Error/R3D3I3.csv 3 3 3\n",
      "Building Protein Graph for entire dataset\n"
     ]
    },
    {
     "name": "stderr",
     "output_type": "stream",
     "text": [
      "100%|██████████| 54688/54688 [00:23<00:00, 2338.02it/s]\n"
     ]
    },
    {
     "name": "stdout",
     "output_type": "stream",
     "text": [
      "Calculating the number of extrema\n"
     ]
    },
    {
     "name": "stderr",
     "output_type": "stream",
     "text": [
      "100%|██████████| 54688/54688 [00:00<00:00, 60926.74it/s]\n",
      "creating neighbour: 100%|██████████| 9570400/9570400 [00:27<00:00, 344801.94it/s]\n"
     ]
    },
    {
     "name": "stdout",
     "output_type": "stream",
     "text": [
      "['A', 'B', 'C', 'D', 'E'] Error/R0D7I0.csv 0 7 0\n",
      "Building Protein Graph for entire dataset\n"
     ]
    },
    {
     "name": "stderr",
     "output_type": "stream",
     "text": [
      "100%|██████████| 23438/23438 [00:07<00:00, 2992.16it/s]\n"
     ]
    },
    {
     "name": "stdout",
     "output_type": "stream",
     "text": [
      "Calculating the number of extrema\n"
     ]
    },
    {
     "name": "stderr",
     "output_type": "stream",
     "text": [
      "100%|██████████| 23438/23438 [00:00<00:00, 64112.90it/s]\n",
      "creating neighbour: 100%|██████████| 4101650/4101650 [00:09<00:00, 424610.30it/s]\n"
     ]
    },
    {
     "name": "stdout",
     "output_type": "stream",
     "text": [
      "['A', 'B', 'C', 'D', 'E'] Error/R3D5I3.csv 3 5 3\n",
      "Building Protein Graph for entire dataset\n"
     ]
    },
    {
     "name": "stderr",
     "output_type": "stream",
     "text": [
      "100%|██████████| 39063/39063 [00:14<00:00, 2751.02it/s]\n"
     ]
    },
    {
     "name": "stdout",
     "output_type": "stream",
     "text": [
      "Calculating the number of extrema\n"
     ]
    },
    {
     "name": "stderr",
     "output_type": "stream",
     "text": [
      "100%|██████████| 39063/39063 [00:00<00:00, 61680.06it/s]\n",
      "creating neighbour: 100%|██████████| 6836025/6836025 [00:17<00:00, 396342.19it/s]\n"
     ]
    },
    {
     "name": "stdout",
     "output_type": "stream",
     "text": [
      "['A', 'B', 'C', 'D', 'E'] Error/R0D5I2.csv 0 5 2\n",
      "Building Protein Graph for entire dataset\n"
     ]
    },
    {
     "name": "stderr",
     "output_type": "stream",
     "text": [
      "100%|██████████| 39063/39063 [00:15<00:00, 2446.51it/s]\n"
     ]
    },
    {
     "name": "stdout",
     "output_type": "stream",
     "text": [
      "Calculating the number of extrema\n"
     ]
    },
    {
     "name": "stderr",
     "output_type": "stream",
     "text": [
      "100%|██████████| 39063/39063 [00:00<00:00, 60963.28it/s]\n",
      "creating neighbour: 100%|██████████| 6836025/6836025 [00:20<00:00, 341288.72it/s]\n"
     ]
    },
    {
     "name": "stdout",
     "output_type": "stream",
     "text": [
      "['A', 'B', 'C', 'D', 'E'] Error/R3DSI2.csv 3 S 2\n",
      "Building Protein Graph for entire dataset\n"
     ]
    },
    {
     "name": "stderr",
     "output_type": "stream",
     "text": [
      "100%|██████████| 1140/1140 [00:00<00:00, 2731.93it/s]\n"
     ]
    },
    {
     "name": "stdout",
     "output_type": "stream",
     "text": [
      "Calculating the number of extrema\n"
     ]
    },
    {
     "name": "stderr",
     "output_type": "stream",
     "text": [
      "100%|██████████| 1140/1140 [00:00<00:00, 35870.54it/s]\n",
      "creating neighbour: 100%|██████████| 199500/199500 [00:00<00:00, 552536.24it/s]\n"
     ]
    },
    {
     "name": "stdout",
     "output_type": "stream",
     "text": [
      "['A', 'B', 'C', 'D', 'E'] Error/R6D1I1.csv 6 1 1\n",
      "Building Protein Graph for entire dataset\n"
     ]
    },
    {
     "name": "stderr",
     "output_type": "stream",
     "text": [
      "100%|██████████| 70313/70313 [00:29<00:00, 2348.90it/s]\n"
     ]
    },
    {
     "name": "stdout",
     "output_type": "stream",
     "text": [
      "Calculating the number of extrema\n"
     ]
    },
    {
     "name": "stderr",
     "output_type": "stream",
     "text": [
      "100%|██████████| 70313/70313 [00:01<00:00, 57747.43it/s]\n",
      "creating neighbour: 100%|██████████| 12304775/12304775 [00:39<00:00, 311166.31it/s]\n"
     ]
    },
    {
     "name": "stdout",
     "output_type": "stream",
     "text": [
      "['A', 'B', 'C', 'D', 'E'] Error/R6D5I2.csv 6 5 2\n",
      "Building Protein Graph for entire dataset\n"
     ]
    },
    {
     "name": "stderr",
     "output_type": "stream",
     "text": [
      "100%|██████████| 39063/39063 [00:12<00:00, 3025.85it/s]\n"
     ]
    },
    {
     "name": "stdout",
     "output_type": "stream",
     "text": [
      "Calculating the number of extrema\n"
     ]
    },
    {
     "name": "stderr",
     "output_type": "stream",
     "text": [
      "100%|██████████| 39063/39063 [00:00<00:00, 61220.80it/s]\n",
      "creating neighbour: 100%|██████████| 6836025/6836025 [00:19<00:00, 352673.88it/s]\n"
     ]
    },
    {
     "name": "stdout",
     "output_type": "stream",
     "text": [
      "['A', 'B', 'C', 'D', 'E'] Error/R0DSI0.csv 0 S 0\n",
      "Building Protein Graph for entire dataset\n"
     ]
    },
    {
     "name": "stderr",
     "output_type": "stream",
     "text": [
      "100%|██████████| 1156/1156 [00:00<00:00, 3105.05it/s]\n"
     ]
    },
    {
     "name": "stdout",
     "output_type": "stream",
     "text": [
      "Calculating the number of extrema\n"
     ]
    },
    {
     "name": "stderr",
     "output_type": "stream",
     "text": [
      "100%|██████████| 1156/1156 [00:00<00:00, 49861.84it/s]\n",
      "creating neighbour: 100%|██████████| 202300/202300 [00:00<00:00, 552931.16it/s]\n"
     ]
    },
    {
     "name": "stdout",
     "output_type": "stream",
     "text": [
      "['A', 'B', 'C', 'D', 'E'] Error/R6D3I1.csv 6 3 1\n",
      "Building Protein Graph for entire dataset\n"
     ]
    },
    {
     "name": "stderr",
     "output_type": "stream",
     "text": [
      "100%|██████████| 54688/54688 [00:23<00:00, 2355.04it/s]\n"
     ]
    },
    {
     "name": "stdout",
     "output_type": "stream",
     "text": [
      "Calculating the number of extrema\n"
     ]
    },
    {
     "name": "stderr",
     "output_type": "stream",
     "text": [
      "100%|██████████| 54688/54688 [00:00<00:00, 58987.00it/s]\n",
      "creating neighbour: 100%|██████████| 9570400/9570400 [00:25<00:00, 372282.93it/s]\n"
     ]
    },
    {
     "name": "stdout",
     "output_type": "stream",
     "text": [
      "['A', 'B', 'C', 'D', 'E'] Error/R0DSI3.csv 0 S 3\n",
      "Building Protein Graph for entire dataset\n"
     ]
    },
    {
     "name": "stderr",
     "output_type": "stream",
     "text": [
      "100%|██████████| 1196/1196 [00:00<00:00, 2701.29it/s]\n"
     ]
    },
    {
     "name": "stdout",
     "output_type": "stream",
     "text": [
      "Calculating the number of extrema\n"
     ]
    },
    {
     "name": "stderr",
     "output_type": "stream",
     "text": [
      "100%|██████████| 1196/1196 [00:00<00:00, 52547.43it/s]\n",
      "creating neighbour: 100%|██████████| 209300/209300 [00:00<00:00, 571097.61it/s]\n"
     ]
    },
    {
     "name": "stdout",
     "output_type": "stream",
     "text": [
      "['A', 'B', 'C', 'D', 'E'] Error/R0D9I3.csv 0 9 3\n",
      "Building Protein Graph for entire dataset\n"
     ]
    },
    {
     "name": "stderr",
     "output_type": "stream",
     "text": [
      "100%|██████████| 7813/7813 [00:02<00:00, 3220.63it/s]\n"
     ]
    },
    {
     "name": "stdout",
     "output_type": "stream",
     "text": [
      "Calculating the number of extrema\n"
     ]
    },
    {
     "name": "stderr",
     "output_type": "stream",
     "text": [
      "100%|██████████| 7813/7813 [00:00<00:00, 65796.01it/s]\n",
      "creating neighbour: 100%|██████████| 1367275/1367275 [00:02<00:00, 530778.59it/s]\n"
     ]
    },
    {
     "name": "stdout",
     "output_type": "stream",
     "text": [
      "['A', 'B', 'C', 'D', 'E'] Error/R3D9I1.csv 3 9 1\n",
      "Building Protein Graph for entire dataset\n"
     ]
    },
    {
     "name": "stderr",
     "output_type": "stream",
     "text": [
      "100%|██████████| 7813/7813 [00:02<00:00, 3209.62it/s]\n"
     ]
    },
    {
     "name": "stdout",
     "output_type": "stream",
     "text": [
      "Calculating the number of extrema\n"
     ]
    },
    {
     "name": "stderr",
     "output_type": "stream",
     "text": [
      "100%|██████████| 7813/7813 [00:00<00:00, 66517.74it/s]\n",
      "creating neighbour: 100%|██████████| 1367275/1367275 [00:03<00:00, 446008.84it/s]"
     ]
    },
    {
     "name": "stdout",
     "output_type": "stream",
     "text": [
      "['A', 'B', 'C', 'D', 'E'] Error/R6D7I2.csv 6 7 2\n",
      "Building Protein Graph for entire dataset\n"
     ]
    },
    {
     "name": "stderr",
     "output_type": "stream",
     "text": [
      "\n",
      "100%|██████████| 23438/23438 [00:07<00:00, 3146.95it/s]\n"
     ]
    },
    {
     "name": "stdout",
     "output_type": "stream",
     "text": [
      "Calculating the number of extrema\n"
     ]
    },
    {
     "name": "stderr",
     "output_type": "stream",
     "text": [
      "100%|██████████| 23438/23438 [00:00<00:00, 66256.32it/s]\n",
      "creating neighbour: 100%|██████████| 4101650/4101650 [00:09<00:00, 415164.91it/s]\n"
     ]
    },
    {
     "name": "stdout",
     "output_type": "stream",
     "text": [
      "['A', 'B', 'C', 'D', 'E'] Error/R6D7I3.csv 6 7 3\n",
      "Building Protein Graph for entire dataset\n"
     ]
    },
    {
     "name": "stderr",
     "output_type": "stream",
     "text": [
      "100%|██████████| 23438/23438 [00:07<00:00, 3124.17it/s]\n"
     ]
    },
    {
     "name": "stdout",
     "output_type": "stream",
     "text": [
      "Calculating the number of extrema\n"
     ]
    },
    {
     "name": "stderr",
     "output_type": "stream",
     "text": [
      "100%|██████████| 23438/23438 [00:00<00:00, 65561.13it/s]\n",
      "creating neighbour: 100%|██████████| 4101650/4101650 [00:09<00:00, 447301.74it/s]\n"
     ]
    },
    {
     "name": "stdout",
     "output_type": "stream",
     "text": [
      "['A', 'B', 'C', 'D', 'E'] Error/R6D1I2.csv 6 1 2\n",
      "Building Protein Graph for entire dataset\n"
     ]
    },
    {
     "name": "stderr",
     "output_type": "stream",
     "text": [
      "100%|██████████| 70313/70313 [00:27<00:00, 2585.53it/s]\n"
     ]
    },
    {
     "name": "stdout",
     "output_type": "stream",
     "text": [
      "Calculating the number of extrema\n"
     ]
    },
    {
     "name": "stderr",
     "output_type": "stream",
     "text": [
      "100%|██████████| 70313/70313 [00:01<00:00, 57670.94it/s]\n",
      "creating neighbour: 100%|██████████| 12304775/12304775 [00:39<00:00, 315067.55it/s]\n"
     ]
    },
    {
     "name": "stdout",
     "output_type": "stream",
     "text": [
      "['A', 'B', 'C', 'D', 'E'] Error/R0D5I3.csv 0 5 3\n",
      "Building Protein Graph for entire dataset\n"
     ]
    },
    {
     "name": "stderr",
     "output_type": "stream",
     "text": [
      "100%|██████████| 39063/39063 [00:13<00:00, 2917.85it/s]\n"
     ]
    },
    {
     "name": "stdout",
     "output_type": "stream",
     "text": [
      "Calculating the number of extrema\n"
     ]
    },
    {
     "name": "stderr",
     "output_type": "stream",
     "text": [
      "100%|██████████| 39063/39063 [00:00<00:00, 61629.81it/s]\n",
      "creating neighbour: 100%|██████████| 6836025/6836025 [00:17<00:00, 386065.11it/s]\n"
     ]
    },
    {
     "name": "stdout",
     "output_type": "stream",
     "text": [
      "['A', 'B', 'C', 'D', 'E'] Error/R3D1I2.csv 3 1 2\n",
      "Building Protein Graph for entire dataset\n"
     ]
    },
    {
     "name": "stderr",
     "output_type": "stream",
     "text": [
      "100%|██████████| 70313/70313 [00:31<00:00, 2220.13it/s]\n"
     ]
    },
    {
     "name": "stdout",
     "output_type": "stream",
     "text": [
      "Calculating the number of extrema\n"
     ]
    },
    {
     "name": "stderr",
     "output_type": "stream",
     "text": [
      "100%|██████████| 70313/70313 [00:01<00:00, 56876.54it/s]\n",
      "creating neighbour: 100%|██████████| 12304775/12304775 [00:36<00:00, 337977.80it/s]\n"
     ]
    },
    {
     "name": "stdout",
     "output_type": "stream",
     "text": [
      "['A', 'B', 'C', 'D', 'E'] Error/R6DSI3.csv 6 S 3\n",
      "Building Protein Graph for entire dataset\n"
     ]
    },
    {
     "name": "stderr",
     "output_type": "stream",
     "text": [
      "100%|██████████| 1154/1154 [00:00<00:00, 2933.04it/s]\n"
     ]
    },
    {
     "name": "stdout",
     "output_type": "stream",
     "text": [
      "Calculating the number of extrema\n"
     ]
    },
    {
     "name": "stderr",
     "output_type": "stream",
     "text": [
      "100%|██████████| 1154/1154 [00:00<00:00, 60051.70it/s]\n",
      "creating neighbour: 100%|██████████| 201950/201950 [00:00<00:00, 566435.48it/s]\n"
     ]
    },
    {
     "name": "stdout",
     "output_type": "stream",
     "text": [
      "['A', 'B', 'C', 'D', 'E'] Error/R6D7I4.csv 6 7 4\n",
      "Building Protein Graph for entire dataset\n"
     ]
    },
    {
     "name": "stderr",
     "output_type": "stream",
     "text": [
      "100%|██████████| 23438/23438 [00:07<00:00, 3007.43it/s]\n"
     ]
    },
    {
     "name": "stdout",
     "output_type": "stream",
     "text": [
      "Calculating the number of extrema\n"
     ]
    },
    {
     "name": "stderr",
     "output_type": "stream",
     "text": [
      "100%|██████████| 23438/23438 [00:00<00:00, 64869.29it/s]\n",
      "creating neighbour: 100%|██████████| 4101650/4101650 [00:08<00:00, 503435.81it/s]\n"
     ]
    },
    {
     "name": "stdout",
     "output_type": "stream",
     "text": [
      "['A', 'B', 'C', 'D', 'E'] Error/R0D0I0.csv 0 0 0\n",
      "Building Protein Graph for entire dataset\n"
     ]
    },
    {
     "name": "stderr",
     "output_type": "stream",
     "text": [
      "100%|██████████| 78125/78125 [00:32<00:00, 2389.70it/s]\n"
     ]
    },
    {
     "name": "stdout",
     "output_type": "stream",
     "text": [
      "Calculating the number of extrema\n"
     ]
    },
    {
     "name": "stderr",
     "output_type": "stream",
     "text": [
      "100%|██████████| 78125/78125 [00:01<00:00, 56108.28it/s]\n",
      "creating neighbour: 100%|██████████| 13671875/13671875 [00:44<00:00, 305781.66it/s]\n"
     ]
    },
    {
     "name": "stdout",
     "output_type": "stream",
     "text": [
      "['A', 'B', 'C', 'D', 'E'] Error/R0D1I2.csv 0 1 2\n",
      "Building Protein Graph for entire dataset\n"
     ]
    },
    {
     "name": "stderr",
     "output_type": "stream",
     "text": [
      "100%|██████████| 70313/70313 [00:33<00:00, 2120.33it/s]\n"
     ]
    },
    {
     "name": "stdout",
     "output_type": "stream",
     "text": [
      "Calculating the number of extrema\n"
     ]
    },
    {
     "name": "stderr",
     "output_type": "stream",
     "text": [
      "100%|██████████| 70313/70313 [00:01<00:00, 56222.67it/s]\n",
      "creating neighbour: 100%|██████████| 12304775/12304775 [00:42<00:00, 291131.53it/s]\n"
     ]
    },
    {
     "name": "stdout",
     "output_type": "stream",
     "text": [
      "['A', 'B', 'C', 'D', 'E'] Error/R3D0I0.csv 3 0 0\n",
      "Building Protein Graph for entire dataset\n"
     ]
    },
    {
     "name": "stderr",
     "output_type": "stream",
     "text": [
      "100%|██████████| 78125/78125 [00:30<00:00, 2533.29it/s]\n"
     ]
    },
    {
     "name": "stdout",
     "output_type": "stream",
     "text": [
      "Calculating the number of extrema\n"
     ]
    },
    {
     "name": "stderr",
     "output_type": "stream",
     "text": [
      "100%|██████████| 78125/78125 [00:01<00:00, 54533.08it/s]\n",
      "creating neighbour: 100%|██████████| 13671875/13671875 [00:42<00:00, 323552.13it/s]\n"
     ]
    },
    {
     "name": "stdout",
     "output_type": "stream",
     "text": [
      "['A', 'B', 'C', 'D', 'E'] Error/R6D1I3.csv 6 1 3\n",
      "Building Protein Graph for entire dataset\n"
     ]
    },
    {
     "name": "stderr",
     "output_type": "stream",
     "text": [
      "100%|██████████| 70313/70313 [00:25<00:00, 2777.74it/s]\n"
     ]
    },
    {
     "name": "stdout",
     "output_type": "stream",
     "text": [
      "Calculating the number of extrema\n"
     ]
    },
    {
     "name": "stderr",
     "output_type": "stream",
     "text": [
      "100%|██████████| 70313/70313 [00:01<00:00, 57863.61it/s]\n",
      "creating neighbour: 100%|██████████| 12304775/12304775 [00:40<00:00, 306455.96it/s]\n"
     ]
    },
    {
     "name": "stdout",
     "output_type": "stream",
     "text": [
      "['A', 'B', 'C', 'D', 'E'] Error/R0D3I0.csv 0 3 0\n",
      "Building Protein Graph for entire dataset\n"
     ]
    },
    {
     "name": "stderr",
     "output_type": "stream",
     "text": [
      "100%|██████████| 54688/54688 [00:20<00:00, 2654.41it/s]\n"
     ]
    },
    {
     "name": "stdout",
     "output_type": "stream",
     "text": [
      "Calculating the number of extrema\n"
     ]
    },
    {
     "name": "stderr",
     "output_type": "stream",
     "text": [
      "100%|██████████| 54688/54688 [00:01<00:00, 46527.67it/s]\n",
      "creating neighbour: 100%|██████████| 9570400/9570400 [00:29<00:00, 329113.45it/s]\n"
     ]
    },
    {
     "name": "stdout",
     "output_type": "stream",
     "text": [
      "['A', 'B', 'C', 'D', 'E'] Error/R3DSI1.csv 3 S 1\n",
      "Building Protein Graph for entire dataset\n"
     ]
    },
    {
     "name": "stderr",
     "output_type": "stream",
     "text": [
      "100%|██████████| 1153/1153 [00:00<00:00, 2833.00it/s]\n"
     ]
    },
    {
     "name": "stdout",
     "output_type": "stream",
     "text": [
      "Calculating the number of extrema\n"
     ]
    },
    {
     "name": "stderr",
     "output_type": "stream",
     "text": [
      "100%|██████████| 1153/1153 [00:00<00:00, 53061.00it/s]\n",
      "creating neighbour: 100%|██████████| 201775/201775 [00:00<00:00, 571712.67it/s]\n"
     ]
    },
    {
     "name": "stdout",
     "output_type": "stream",
     "text": [
      "['A', 'B', 'C', 'D', 'E'] Error/R0D3I2.csv 0 3 2\n",
      "Building Protein Graph for entire dataset\n"
     ]
    },
    {
     "name": "stderr",
     "output_type": "stream",
     "text": [
      "100%|██████████| 54688/54688 [00:19<00:00, 2746.96it/s]\n"
     ]
    },
    {
     "name": "stdout",
     "output_type": "stream",
     "text": [
      "Calculating the number of extrema\n"
     ]
    },
    {
     "name": "stderr",
     "output_type": "stream",
     "text": [
      "100%|██████████| 54688/54688 [00:00<00:00, 58487.07it/s]\n",
      "creating neighbour: 100%|██████████| 9570400/9570400 [00:25<00:00, 381850.60it/s]\n"
     ]
    },
    {
     "name": "stdout",
     "output_type": "stream",
     "text": [
      "['A', 'B', 'C', 'D', 'E'] Error/R0D5I1.csv 0 5 1\n",
      "Building Protein Graph for entire dataset\n"
     ]
    },
    {
     "name": "stderr",
     "output_type": "stream",
     "text": [
      "100%|██████████| 39063/39063 [00:16<00:00, 2394.55it/s]\n"
     ]
    },
    {
     "name": "stdout",
     "output_type": "stream",
     "text": [
      "Calculating the number of extrema\n"
     ]
    },
    {
     "name": "stderr",
     "output_type": "stream",
     "text": [
      "100%|██████████| 39063/39063 [00:00<00:00, 62251.39it/s]\n",
      "creating neighbour: 100%|██████████| 6836025/6836025 [00:18<00:00, 372479.66it/s]\n"
     ]
    },
    {
     "name": "stdout",
     "output_type": "stream",
     "text": [
      "['A', 'B', 'C', 'D', 'E'] Error/R0D7I1.csv 0 7 1\n",
      "Building Protein Graph for entire dataset\n"
     ]
    },
    {
     "name": "stderr",
     "output_type": "stream",
     "text": [
      "100%|██████████| 23438/23438 [00:07<00:00, 3037.93it/s]\n"
     ]
    },
    {
     "name": "stdout",
     "output_type": "stream",
     "text": [
      "Calculating the number of extrema\n"
     ]
    },
    {
     "name": "stderr",
     "output_type": "stream",
     "text": [
      "100%|██████████| 23438/23438 [00:00<00:00, 62681.30it/s]\n",
      "creating neighbour: 100%|██████████| 4101650/4101650 [00:09<00:00, 439025.53it/s]\n"
     ]
    },
    {
     "name": "stdout",
     "output_type": "stream",
     "text": [
      "['A', 'B', 'C', 'D', 'E'] Error/R3D1I3.csv 3 1 3\n",
      "Building Protein Graph for entire dataset\n"
     ]
    },
    {
     "name": "stderr",
     "output_type": "stream",
     "text": [
      "100%|██████████| 70313/70313 [00:32<00:00, 2136.24it/s]\n"
     ]
    },
    {
     "name": "stdout",
     "output_type": "stream",
     "text": [
      "Calculating the number of extrema\n"
     ]
    },
    {
     "name": "stderr",
     "output_type": "stream",
     "text": [
      "100%|██████████| 70313/70313 [00:01<00:00, 56774.75it/s]\n",
      "creating neighbour: 100%|██████████| 12304775/12304775 [00:39<00:00, 315277.54it/s]\n"
     ]
    },
    {
     "name": "stdout",
     "output_type": "stream",
     "text": [
      "['A', 'B', 'C', 'D', 'E'] Error/R6D7I0.csv 6 7 0\n",
      "Building Protein Graph for entire dataset\n"
     ]
    },
    {
     "name": "stderr",
     "output_type": "stream",
     "text": [
      "100%|██████████| 23438/23438 [00:08<00:00, 2913.55it/s]\n"
     ]
    },
    {
     "name": "stdout",
     "output_type": "stream",
     "text": [
      "Calculating the number of extrema\n"
     ]
    },
    {
     "name": "stderr",
     "output_type": "stream",
     "text": [
      "100%|██████████| 23438/23438 [00:00<00:00, 66030.87it/s]\n",
      "creating neighbour: 100%|██████████| 4101650/4101650 [00:10<00:00, 397788.42it/s]\n"
     ]
    },
    {
     "name": "stdout",
     "output_type": "stream",
     "text": [
      "['A', 'B', 'C', 'D', 'E'] Error/R3D3I4.csv 3 3 4\n",
      "Building Protein Graph for entire dataset\n"
     ]
    },
    {
     "name": "stderr",
     "output_type": "stream",
     "text": [
      "100%|██████████| 54688/54688 [00:20<00:00, 2623.51it/s]\n"
     ]
    },
    {
     "name": "stdout",
     "output_type": "stream",
     "text": [
      "Calculating the number of extrema\n"
     ]
    },
    {
     "name": "stderr",
     "output_type": "stream",
     "text": [
      "100%|██████████| 54688/54688 [00:00<00:00, 58421.18it/s]\n",
      "creating neighbour: 100%|██████████| 9570400/9570400 [00:26<00:00, 360814.85it/s]\n"
     ]
    },
    {
     "name": "stdout",
     "output_type": "stream",
     "text": [
      "['A', 'B', 'C', 'D', 'E'] Error/R0D1I0.csv 0 1 0\n",
      "Building Protein Graph for entire dataset\n"
     ]
    },
    {
     "name": "stderr",
     "output_type": "stream",
     "text": [
      "100%|██████████| 70313/70313 [00:27<00:00, 2535.73it/s]\n"
     ]
    },
    {
     "name": "stdout",
     "output_type": "stream",
     "text": [
      "Calculating the number of extrema\n"
     ]
    },
    {
     "name": "stderr",
     "output_type": "stream",
     "text": [
      "100%|██████████| 70313/70313 [00:01<00:00, 48971.47it/s]\n",
      "creating neighbour: 100%|██████████| 12304775/12304775 [00:40<00:00, 306636.04it/s]\n"
     ]
    },
    {
     "name": "stdout",
     "output_type": "stream",
     "text": [
      "['A', 'B', 'C', 'D', 'E'] Error/R6D5I4.csv 6 5 4\n",
      "Building Protein Graph for entire dataset\n"
     ]
    },
    {
     "name": "stderr",
     "output_type": "stream",
     "text": [
      "100%|██████████| 39063/39063 [00:12<00:00, 3043.70it/s]\n"
     ]
    },
    {
     "name": "stdout",
     "output_type": "stream",
     "text": [
      "Calculating the number of extrema\n"
     ]
    },
    {
     "name": "stderr",
     "output_type": "stream",
     "text": [
      "100%|██████████| 39063/39063 [00:00<00:00, 63128.68it/s]\n",
      "creating neighbour: 100%|██████████| 6836025/6836025 [00:17<00:00, 393085.77it/s]\n"
     ]
    },
    {
     "name": "stdout",
     "output_type": "stream",
     "text": [
      "['A', 'B', 'C', 'D', 'E'] Error/R0D1I1.csv 0 1 1\n",
      "Building Protein Graph for entire dataset\n"
     ]
    },
    {
     "name": "stderr",
     "output_type": "stream",
     "text": [
      "100%|██████████| 70313/70313 [00:28<00:00, 2509.23it/s]\n"
     ]
    },
    {
     "name": "stdout",
     "output_type": "stream",
     "text": [
      "Calculating the number of extrema\n"
     ]
    },
    {
     "name": "stderr",
     "output_type": "stream",
     "text": [
      "100%|██████████| 70313/70313 [00:01<00:00, 58942.09it/s]\n",
      "creating neighbour: 100%|██████████| 12304775/12304775 [00:37<00:00, 325727.20it/s]\n"
     ]
    },
    {
     "name": "stdout",
     "output_type": "stream",
     "text": [
      "['A', 'B', 'C', 'D', 'E'] Error/R6D9I3.csv 6 9 3\n",
      "Building Protein Graph for entire dataset\n"
     ]
    },
    {
     "name": "stderr",
     "output_type": "stream",
     "text": [
      "100%|██████████| 7813/7813 [00:02<00:00, 3274.69it/s]\n"
     ]
    },
    {
     "name": "stdout",
     "output_type": "stream",
     "text": [
      "Calculating the number of extrema\n"
     ]
    },
    {
     "name": "stderr",
     "output_type": "stream",
     "text": [
      "100%|██████████| 7813/7813 [00:00<00:00, 67315.85it/s]\n",
      "creating neighbour: 100%|██████████| 1367275/1367275 [00:02<00:00, 550191.13it/s]\n"
     ]
    },
    {
     "name": "stdout",
     "output_type": "stream",
     "text": [
      "['A', 'B', 'C', 'D', 'E'] Error/R3DSI3.csv 3 S 3\n",
      "Building Protein Graph for entire dataset\n"
     ]
    },
    {
     "name": "stderr",
     "output_type": "stream",
     "text": [
      "100%|██████████| 1204/1204 [00:00<00:00, 2713.30it/s]\n"
     ]
    },
    {
     "name": "stdout",
     "output_type": "stream",
     "text": [
      "Calculating the number of extrema\n"
     ]
    },
    {
     "name": "stderr",
     "output_type": "stream",
     "text": [
      "100%|██████████| 1204/1204 [00:00<00:00, 57591.86it/s]\n",
      "creating neighbour: 100%|██████████| 210700/210700 [00:00<00:00, 552236.62it/s]\n"
     ]
    },
    {
     "name": "stdout",
     "output_type": "stream",
     "text": [
      "['A', 'B', 'C', 'D', 'E'] Error/R3D9I3.csv 3 9 3\n",
      "Building Protein Graph for entire dataset\n"
     ]
    },
    {
     "name": "stderr",
     "output_type": "stream",
     "text": [
      "100%|██████████| 7813/7813 [00:02<00:00, 3540.50it/s]\n"
     ]
    },
    {
     "name": "stdout",
     "output_type": "stream",
     "text": [
      "Calculating the number of extrema\n"
     ]
    },
    {
     "name": "stderr",
     "output_type": "stream",
     "text": [
      "100%|██████████| 7813/7813 [00:00<00:00, 65529.05it/s]\n",
      "creating neighbour: 100%|██████████| 1367275/1367275 [00:02<00:00, 555209.69it/s]\n"
     ]
    },
    {
     "name": "stdout",
     "output_type": "stream",
     "text": [
      "['A', 'B', 'C', 'D', 'E'] Error/R3D1I1.csv 3 1 1\n",
      "Building Protein Graph for entire dataset\n"
     ]
    },
    {
     "name": "stderr",
     "output_type": "stream",
     "text": [
      "100%|██████████| 70313/70313 [00:28<00:00, 2436.58it/s]\n"
     ]
    },
    {
     "name": "stdout",
     "output_type": "stream",
     "text": [
      "Calculating the number of extrema\n"
     ]
    },
    {
     "name": "stderr",
     "output_type": "stream",
     "text": [
      "100%|██████████| 70313/70313 [00:01<00:00, 57231.37it/s]\n",
      "creating neighbour: 100%|██████████| 12304775/12304775 [00:38<00:00, 317292.11it/s]\n"
     ]
    },
    {
     "name": "stdout",
     "output_type": "stream",
     "text": [
      "['A', 'B', 'C', 'D', 'E'] Error/R3D7I4.csv 3 7 4\n",
      "Building Protein Graph for entire dataset\n"
     ]
    },
    {
     "name": "stderr",
     "output_type": "stream",
     "text": [
      "100%|██████████| 23438/23438 [00:07<00:00, 3188.21it/s]\n"
     ]
    },
    {
     "name": "stdout",
     "output_type": "stream",
     "text": [
      "Calculating the number of extrema\n"
     ]
    },
    {
     "name": "stderr",
     "output_type": "stream",
     "text": [
      "100%|██████████| 23438/23438 [00:00<00:00, 65727.00it/s]\n",
      "creating neighbour: 100%|██████████| 4101650/4101650 [00:10<00:00, 390894.97it/s]\n"
     ]
    },
    {
     "name": "stdout",
     "output_type": "stream",
     "text": [
      "['A', 'B', 'C', 'D', 'E'] Error/R3D3I1.csv 3 3 1\n",
      "Building Protein Graph for entire dataset\n"
     ]
    },
    {
     "name": "stderr",
     "output_type": "stream",
     "text": [
      "100%|██████████| 54688/54688 [00:25<00:00, 2164.31it/s]\n"
     ]
    },
    {
     "name": "stdout",
     "output_type": "stream",
     "text": [
      "Calculating the number of extrema\n"
     ]
    },
    {
     "name": "stderr",
     "output_type": "stream",
     "text": [
      "100%|██████████| 54688/54688 [00:00<00:00, 60236.22it/s]\n",
      "creating neighbour: 100%|██████████| 9570400/9570400 [00:26<00:00, 357190.25it/s]\n"
     ]
    },
    {
     "name": "stdout",
     "output_type": "stream",
     "text": [
      "['A', 'B', 'C', 'D', 'E'] Error/R6D7I1.csv 6 7 1\n",
      "Building Protein Graph for entire dataset\n"
     ]
    },
    {
     "name": "stderr",
     "output_type": "stream",
     "text": [
      "100%|██████████| 23438/23438 [00:07<00:00, 2968.79it/s]\n"
     ]
    },
    {
     "name": "stdout",
     "output_type": "stream",
     "text": [
      "Calculating the number of extrema\n"
     ]
    },
    {
     "name": "stderr",
     "output_type": "stream",
     "text": [
      "100%|██████████| 23438/23438 [00:00<00:00, 65406.02it/s]\n",
      "creating neighbour: 100%|██████████| 4101650/4101650 [00:09<00:00, 424468.12it/s]\n"
     ]
    },
    {
     "name": "stdout",
     "output_type": "stream",
     "text": [
      "['A', 'B', 'C', 'D', 'E'] Error/R0DSI2.csv 0 S 2\n",
      "Building Protein Graph for entire dataset\n"
     ]
    },
    {
     "name": "stderr",
     "output_type": "stream",
     "text": [
      "100%|██████████| 1175/1175 [00:00<00:00, 2810.45it/s]\n"
     ]
    },
    {
     "name": "stdout",
     "output_type": "stream",
     "text": [
      "Calculating the number of extrema\n"
     ]
    },
    {
     "name": "stderr",
     "output_type": "stream",
     "text": [
      "100%|██████████| 1175/1175 [00:00<00:00, 62179.00it/s]\n",
      "creating neighbour: 100%|██████████| 205625/205625 [00:00<00:00, 501338.87it/s]\n"
     ]
    },
    {
     "name": "stdout",
     "output_type": "stream",
     "text": [
      "['A', 'B', 'C', 'D', 'E'] Error/R6D9I4.csv 6 9 4\n",
      "Building Protein Graph for entire dataset\n"
     ]
    },
    {
     "name": "stderr",
     "output_type": "stream",
     "text": [
      "100%|██████████| 7813/7813 [00:02<00:00, 3375.91it/s]\n"
     ]
    },
    {
     "name": "stdout",
     "output_type": "stream",
     "text": [
      "Calculating the number of extrema\n"
     ]
    },
    {
     "name": "stderr",
     "output_type": "stream",
     "text": [
      "100%|██████████| 7813/7813 [00:00<00:00, 66199.27it/s]\n",
      "creating neighbour: 100%|██████████| 1367275/1367275 [00:02<00:00, 525074.64it/s]\n"
     ]
    },
    {
     "name": "stdout",
     "output_type": "stream",
     "text": [
      "['A', 'B', 'C', 'D', 'E'] Error/R6D9I0.csv 6 9 0\n",
      "Building Protein Graph for entire dataset\n"
     ]
    },
    {
     "name": "stderr",
     "output_type": "stream",
     "text": [
      "100%|██████████| 7813/7813 [00:02<00:00, 3440.74it/s]\n"
     ]
    },
    {
     "name": "stdout",
     "output_type": "stream",
     "text": [
      "Calculating the number of extrema\n"
     ]
    },
    {
     "name": "stderr",
     "output_type": "stream",
     "text": [
      "100%|██████████| 7813/7813 [00:00<00:00, 69041.13it/s]\n",
      "creating neighbour: 100%|██████████| 1367275/1367275 [00:02<00:00, 470758.28it/s]\n"
     ]
    },
    {
     "name": "stdout",
     "output_type": "stream",
     "text": [
      "['A', 'B', 'C', 'D', 'E'] Error/R3D5I2.csv 3 5 2\n",
      "Building Protein Graph for entire dataset\n"
     ]
    },
    {
     "name": "stderr",
     "output_type": "stream",
     "text": [
      "100%|██████████| 39063/39063 [00:13<00:00, 2982.11it/s]\n"
     ]
    },
    {
     "name": "stdout",
     "output_type": "stream",
     "text": [
      "Calculating the number of extrema\n"
     ]
    },
    {
     "name": "stderr",
     "output_type": "stream",
     "text": [
      "100%|██████████| 39063/39063 [00:00<00:00, 62779.97it/s]\n",
      "creating neighbour: 100%|██████████| 6836025/6836025 [00:18<00:00, 377854.34it/s]\n"
     ]
    },
    {
     "name": "stdout",
     "output_type": "stream",
     "text": [
      "['A', 'B', 'C', 'D', 'E'] Error/R6D5I3.csv 6 5 3\n",
      "Building Protein Graph for entire dataset\n"
     ]
    },
    {
     "name": "stderr",
     "output_type": "stream",
     "text": [
      "100%|██████████| 39063/39063 [00:13<00:00, 2811.99it/s]\n"
     ]
    },
    {
     "name": "stdout",
     "output_type": "stream",
     "text": [
      "Calculating the number of extrema\n"
     ]
    },
    {
     "name": "stderr",
     "output_type": "stream",
     "text": [
      "100%|██████████| 39063/39063 [00:00<00:00, 61439.17it/s]\n",
      "creating neighbour: 100%|██████████| 6836025/6836025 [00:18<00:00, 375246.86it/s]\n"
     ]
    },
    {
     "name": "stdout",
     "output_type": "stream",
     "text": [
      "['A', 'B', 'C', 'D', 'E'] Error/R0D1I3.csv 0 1 3\n",
      "Building Protein Graph for entire dataset\n"
     ]
    },
    {
     "name": "stderr",
     "output_type": "stream",
     "text": [
      "100%|██████████| 70313/70313 [00:29<00:00, 2414.90it/s]\n"
     ]
    },
    {
     "name": "stdout",
     "output_type": "stream",
     "text": [
      "Calculating the number of extrema\n"
     ]
    },
    {
     "name": "stderr",
     "output_type": "stream",
     "text": [
      "100%|██████████| 70313/70313 [00:01<00:00, 58726.69it/s]\n",
      "creating neighbour: 100%|██████████| 12304775/12304775 [00:39<00:00, 311038.40it/s]\n"
     ]
    },
    {
     "name": "stdout",
     "output_type": "stream",
     "text": [
      "['A', 'B', 'C', 'D', 'E'] Error/R0D9I1.csv 0 9 1\n",
      "Building Protein Graph for entire dataset\n"
     ]
    },
    {
     "name": "stderr",
     "output_type": "stream",
     "text": [
      "100%|██████████| 7813/7813 [00:02<00:00, 3538.62it/s]\n"
     ]
    },
    {
     "name": "stdout",
     "output_type": "stream",
     "text": [
      "Calculating the number of extrema\n"
     ]
    },
    {
     "name": "stderr",
     "output_type": "stream",
     "text": [
      "100%|██████████| 7813/7813 [00:00<00:00, 66817.89it/s]\n",
      "creating neighbour: 100%|██████████| 1367275/1367275 [00:02<00:00, 546406.47it/s]\n"
     ]
    },
    {
     "name": "stdout",
     "output_type": "stream",
     "text": [
      "['A', 'B', 'C', 'D', 'E'] Error/R0D9I4.csv 0 9 4\n",
      "Building Protein Graph for entire dataset\n"
     ]
    },
    {
     "name": "stderr",
     "output_type": "stream",
     "text": [
      "100%|██████████| 7813/7813 [00:02<00:00, 3397.07it/s]\n"
     ]
    },
    {
     "name": "stdout",
     "output_type": "stream",
     "text": [
      "Calculating the number of extrema\n"
     ]
    },
    {
     "name": "stderr",
     "output_type": "stream",
     "text": [
      "100%|██████████| 7813/7813 [00:00<00:00, 32042.82it/s]\n",
      "creating neighbour: 100%|██████████| 1367275/1367275 [00:02<00:00, 539237.90it/s]\n"
     ]
    },
    {
     "name": "stdout",
     "output_type": "stream",
     "text": [
      "['A', 'B', 'C', 'D', 'E'] Error/R6D3I4.csv 6 3 4\n",
      "Building Protein Graph for entire dataset\n"
     ]
    },
    {
     "name": "stderr",
     "output_type": "stream",
     "text": [
      "100%|██████████| 54688/54688 [00:23<00:00, 2337.09it/s]\n"
     ]
    },
    {
     "name": "stdout",
     "output_type": "stream",
     "text": [
      "Calculating the number of extrema\n"
     ]
    },
    {
     "name": "stderr",
     "output_type": "stream",
     "text": [
      "100%|██████████| 54688/54688 [00:00<00:00, 61604.13it/s]\n",
      "creating neighbour: 100%|██████████| 9570400/9570400 [00:25<00:00, 373693.24it/s]\n"
     ]
    },
    {
     "name": "stdout",
     "output_type": "stream",
     "text": [
      "['A', 'B', 'C', 'D', 'E'] Error/R6D3I2.csv 6 3 2\n",
      "Building Protein Graph for entire dataset\n"
     ]
    },
    {
     "name": "stderr",
     "output_type": "stream",
     "text": [
      "100%|██████████| 54688/54688 [00:24<00:00, 2195.81it/s]\n"
     ]
    },
    {
     "name": "stdout",
     "output_type": "stream",
     "text": [
      "Calculating the number of extrema\n"
     ]
    },
    {
     "name": "stderr",
     "output_type": "stream",
     "text": [
      "100%|██████████| 54688/54688 [00:01<00:00, 45176.43it/s]\n",
      "creating neighbour: 100%|██████████| 9570400/9570400 [00:29<00:00, 324670.02it/s]\n"
     ]
    },
    {
     "name": "stdout",
     "output_type": "stream",
     "text": [
      "['A', 'B', 'C', 'D', 'E'] Error/R3D7I2.csv 3 7 2\n",
      "Building Protein Graph for entire dataset\n"
     ]
    },
    {
     "name": "stderr",
     "output_type": "stream",
     "text": [
      "100%|██████████| 23438/23438 [00:07<00:00, 2994.75it/s]\n"
     ]
    },
    {
     "name": "stdout",
     "output_type": "stream",
     "text": [
      "Calculating the number of extrema\n"
     ]
    },
    {
     "name": "stderr",
     "output_type": "stream",
     "text": [
      "100%|██████████| 23438/23438 [00:00<00:00, 63702.02it/s]\n",
      "creating neighbour: 100%|██████████| 4101650/4101650 [00:08<00:00, 487381.57it/s]\n"
     ]
    },
    {
     "name": "stdout",
     "output_type": "stream",
     "text": [
      "['A', 'B', 'C', 'D', 'E'] Error/R3D7I3.csv 3 7 3\n",
      "Building Protein Graph for entire dataset\n"
     ]
    },
    {
     "name": "stderr",
     "output_type": "stream",
     "text": [
      "100%|██████████| 23438/23438 [00:07<00:00, 3056.24it/s]\n"
     ]
    },
    {
     "name": "stdout",
     "output_type": "stream",
     "text": [
      "Calculating the number of extrema\n"
     ]
    },
    {
     "name": "stderr",
     "output_type": "stream",
     "text": [
      "100%|██████████| 23438/23438 [00:00<00:00, 65466.35it/s]\n",
      "creating neighbour: 100%|██████████| 4101650/4101650 [00:08<00:00, 464939.27it/s]\n"
     ]
    },
    {
     "name": "stdout",
     "output_type": "stream",
     "text": [
      "['A', 'B', 'C', 'D', 'E'] Error/R6D1I0.csv 6 1 0\n",
      "Building Protein Graph for entire dataset\n"
     ]
    },
    {
     "name": "stderr",
     "output_type": "stream",
     "text": [
      "100%|██████████| 70313/70313 [00:30<00:00, 2304.04it/s]\n"
     ]
    },
    {
     "name": "stdout",
     "output_type": "stream",
     "text": [
      "Calculating the number of extrema\n"
     ]
    },
    {
     "name": "stderr",
     "output_type": "stream",
     "text": [
      "100%|██████████| 70313/70313 [00:01<00:00, 56110.32it/s]\n",
      "creating neighbour: 100%|██████████| 12304775/12304775 [00:39<00:00, 310094.18it/s]\n"
     ]
    },
    {
     "name": "stdout",
     "output_type": "stream",
     "text": [
      "['A', 'B', 'C', 'D', 'E'] Error/R0D7I3.csv 0 7 3\n",
      "Building Protein Graph for entire dataset\n"
     ]
    },
    {
     "name": "stderr",
     "output_type": "stream",
     "text": [
      "100%|██████████| 23438/23438 [00:08<00:00, 2881.47it/s]\n"
     ]
    },
    {
     "name": "stdout",
     "output_type": "stream",
     "text": [
      "Calculating the number of extrema\n"
     ]
    },
    {
     "name": "stderr",
     "output_type": "stream",
     "text": [
      "100%|██████████| 23438/23438 [00:00<00:00, 64103.61it/s]\n",
      "creating neighbour: 100%|██████████| 4101650/4101650 [00:10<00:00, 379022.67it/s]\n"
     ]
    },
    {
     "name": "stdout",
     "output_type": "stream",
     "text": [
      "['A', 'B', 'C', 'D', 'E'] Error/R0D3I1.csv 0 3 1\n",
      "Building Protein Graph for entire dataset\n"
     ]
    },
    {
     "name": "stderr",
     "output_type": "stream",
     "text": [
      "100%|██████████| 54688/54688 [00:24<00:00, 2255.03it/s]\n"
     ]
    },
    {
     "name": "stdout",
     "output_type": "stream",
     "text": [
      "Calculating the number of extrema\n"
     ]
    },
    {
     "name": "stderr",
     "output_type": "stream",
     "text": [
      "100%|██████████| 54688/54688 [00:00<00:00, 59277.64it/s]\n",
      "creating neighbour: 100%|██████████| 9570400/9570400 [00:28<00:00, 340750.25it/s]\n"
     ]
    },
    {
     "name": "stdout",
     "output_type": "stream",
     "text": [
      "['A', 'B', 'C', 'D', 'E'] Error/R0DSI1.csv 0 S 1\n",
      "Building Protein Graph for entire dataset\n"
     ]
    },
    {
     "name": "stderr",
     "output_type": "stream",
     "text": [
      "100%|██████████| 1190/1190 [00:00<00:00, 2646.29it/s]\n"
     ]
    },
    {
     "name": "stdout",
     "output_type": "stream",
     "text": [
      "Calculating the number of extrema\n"
     ]
    },
    {
     "name": "stderr",
     "output_type": "stream",
     "text": [
      "100%|██████████| 1190/1190 [00:00<00:00, 46541.67it/s]\n",
      "creating neighbour: 100%|██████████| 208250/208250 [00:00<00:00, 560776.15it/s]\n"
     ]
    },
    {
     "name": "stdout",
     "output_type": "stream",
     "text": [
      "['A', 'B', 'C', 'D', 'E'] Error/R0D7I4.csv 0 7 4\n",
      "Building Protein Graph for entire dataset\n"
     ]
    },
    {
     "name": "stderr",
     "output_type": "stream",
     "text": [
      "100%|██████████| 23438/23438 [00:07<00:00, 3072.85it/s]\n"
     ]
    },
    {
     "name": "stdout",
     "output_type": "stream",
     "text": [
      "Calculating the number of extrema\n"
     ]
    },
    {
     "name": "stderr",
     "output_type": "stream",
     "text": [
      "100%|██████████| 23438/23438 [00:00<00:00, 58492.03it/s]\n",
      "creating neighbour: 100%|██████████| 4101650/4101650 [00:08<00:00, 476840.65it/s]\n"
     ]
    },
    {
     "name": "stdout",
     "output_type": "stream",
     "text": [
      "['A', 'B', 'C', 'D', 'E'] Error/R0D1I4.csv 0 1 4\n",
      "Building Protein Graph for entire dataset\n"
     ]
    },
    {
     "name": "stderr",
     "output_type": "stream",
     "text": [
      "100%|██████████| 70313/70313 [00:29<00:00, 2407.18it/s]\n"
     ]
    },
    {
     "name": "stdout",
     "output_type": "stream",
     "text": [
      "Calculating the number of extrema\n"
     ]
    },
    {
     "name": "stderr",
     "output_type": "stream",
     "text": [
      "100%|██████████| 70313/70313 [00:01<00:00, 56469.79it/s]\n",
      "creating neighbour: 100%|██████████| 12304775/12304775 [00:41<00:00, 297138.34it/s]\n"
     ]
    },
    {
     "name": "stdout",
     "output_type": "stream",
     "text": [
      "['A', 'B', 'C', 'D', 'E'] Error/R6D5I0.csv 6 5 0\n",
      "Building Protein Graph for entire dataset\n"
     ]
    },
    {
     "name": "stderr",
     "output_type": "stream",
     "text": [
      "100%|██████████| 39063/39063 [00:12<00:00, 3032.96it/s]\n"
     ]
    },
    {
     "name": "stdout",
     "output_type": "stream",
     "text": [
      "Calculating the number of extrema\n"
     ]
    },
    {
     "name": "stderr",
     "output_type": "stream",
     "text": [
      "100%|██████████| 39063/39063 [00:00<00:00, 63249.51it/s]\n",
      "creating neighbour: 100%|██████████| 6836025/6836025 [00:17<00:00, 381329.58it/s]\n"
     ]
    },
    {
     "name": "stdout",
     "output_type": "stream",
     "text": [
      "['A', 'B', 'C', 'D', 'E'] Error/R3D7I0.csv 3 7 0\n",
      "Building Protein Graph for entire dataset\n"
     ]
    },
    {
     "name": "stderr",
     "output_type": "stream",
     "text": [
      "100%|██████████| 23438/23438 [00:07<00:00, 2948.98it/s]\n"
     ]
    },
    {
     "name": "stdout",
     "output_type": "stream",
     "text": [
      "Calculating the number of extrema\n"
     ]
    },
    {
     "name": "stderr",
     "output_type": "stream",
     "text": [
      "100%|██████████| 23438/23438 [00:00<00:00, 64244.04it/s]\n",
      "creating neighbour: 100%|██████████| 4101650/4101650 [00:08<00:00, 501604.10it/s]\n"
     ]
    },
    {
     "name": "stdout",
     "output_type": "stream",
     "text": [
      "['A', 'B', 'C', 'D', 'E'] Error/R3D5I0.csv 3 5 0\n",
      "Building Protein Graph for entire dataset\n"
     ]
    },
    {
     "name": "stderr",
     "output_type": "stream",
     "text": [
      "100%|██████████| 39063/39063 [00:13<00:00, 2994.53it/s]\n"
     ]
    },
    {
     "name": "stdout",
     "output_type": "stream",
     "text": [
      "Calculating the number of extrema\n"
     ]
    },
    {
     "name": "stderr",
     "output_type": "stream",
     "text": [
      "100%|██████████| 39063/39063 [00:00<00:00, 49835.54it/s]\n",
      "creating neighbour: 100%|██████████| 6836025/6836025 [00:17<00:00, 381591.26it/s]\n"
     ]
    },
    {
     "name": "stdout",
     "output_type": "stream",
     "text": [
      "['A', 'B', 'C', 'D', 'E'] Error/R3D9I2.csv 3 9 2\n",
      "Building Protein Graph for entire dataset\n"
     ]
    },
    {
     "name": "stderr",
     "output_type": "stream",
     "text": [
      "100%|██████████| 7813/7813 [00:02<00:00, 3480.07it/s]\n"
     ]
    },
    {
     "name": "stdout",
     "output_type": "stream",
     "text": [
      "Calculating the number of extrema\n"
     ]
    },
    {
     "name": "stderr",
     "output_type": "stream",
     "text": [
      "100%|██████████| 7813/7813 [00:00<00:00, 54973.05it/s]\n",
      "creating neighbour: 100%|██████████| 1367275/1367275 [00:02<00:00, 550450.74it/s]\n"
     ]
    },
    {
     "name": "stdout",
     "output_type": "stream",
     "text": [
      "['A', 'B', 'C', 'D', 'E'] Error/R6D3I3.csv 6 3 3\n",
      "Building Protein Graph for entire dataset\n"
     ]
    },
    {
     "name": "stderr",
     "output_type": "stream",
     "text": [
      "100%|██████████| 54688/54688 [00:23<00:00, 2327.31it/s]\n"
     ]
    },
    {
     "name": "stdout",
     "output_type": "stream",
     "text": [
      "Calculating the number of extrema\n"
     ]
    },
    {
     "name": "stderr",
     "output_type": "stream",
     "text": [
      "100%|██████████| 54688/54688 [00:00<00:00, 60248.38it/s]\n",
      "creating neighbour: 100%|██████████| 9570400/9570400 [00:26<00:00, 360398.76it/s]\n"
     ]
    },
    {
     "name": "stdout",
     "output_type": "stream",
     "text": [
      "['A', 'B', 'C', 'D', 'E'] Error/R6D0I0.csv 6 0 0\n",
      "Building Protein Graph for entire dataset\n"
     ]
    },
    {
     "name": "stderr",
     "output_type": "stream",
     "text": [
      "100%|██████████| 78125/78125 [00:29<00:00, 2691.55it/s]\n"
     ]
    },
    {
     "name": "stdout",
     "output_type": "stream",
     "text": [
      "Calculating the number of extrema\n"
     ]
    },
    {
     "name": "stderr",
     "output_type": "stream",
     "text": [
      "100%|██████████| 78125/78125 [00:01<00:00, 56202.82it/s]\n",
      "creating neighbour: 100%|██████████| 13671875/13671875 [00:44<00:00, 307651.07it/s]\n"
     ]
    },
    {
     "name": "stdout",
     "output_type": "stream",
     "text": [
      "['A', 'B', 'C', 'D', 'E'] Error/R0D3I4.csv 0 3 4\n",
      "Building Protein Graph for entire dataset\n"
     ]
    },
    {
     "name": "stderr",
     "output_type": "stream",
     "text": [
      "100%|██████████| 54688/54688 [00:24<00:00, 2251.58it/s]\n"
     ]
    },
    {
     "name": "stdout",
     "output_type": "stream",
     "text": [
      "Calculating the number of extrema\n"
     ]
    },
    {
     "name": "stderr",
     "output_type": "stream",
     "text": [
      "100%|██████████| 54688/54688 [00:00<00:00, 59966.33it/s]\n",
      "creating neighbour: 100%|██████████| 9570400/9570400 [00:27<00:00, 342524.29it/s]\n"
     ]
    },
    {
     "name": "stdout",
     "output_type": "stream",
     "text": [
      "['A', 'B', 'C', 'D', 'E'] Error/R3D7I1.csv 3 7 1\n",
      "Building Protein Graph for entire dataset\n"
     ]
    },
    {
     "name": "stderr",
     "output_type": "stream",
     "text": [
      "100%|██████████| 23438/23438 [00:07<00:00, 3039.73it/s]\n"
     ]
    },
    {
     "name": "stdout",
     "output_type": "stream",
     "text": [
      "Calculating the number of extrema\n"
     ]
    },
    {
     "name": "stderr",
     "output_type": "stream",
     "text": [
      "100%|██████████| 23438/23438 [00:00<00:00, 65387.14it/s]\n",
      "creating neighbour: 100%|██████████| 4101650/4101650 [00:08<00:00, 489462.49it/s]\n"
     ]
    },
    {
     "name": "stdout",
     "output_type": "stream",
     "text": [
      "['A', 'B', 'C', 'D', 'E'] Error/R3D1I0.csv 3 1 0\n",
      "Building Protein Graph for entire dataset\n"
     ]
    },
    {
     "name": "stderr",
     "output_type": "stream",
     "text": [
      "100%|██████████| 70313/70313 [00:29<00:00, 2361.92it/s]\n"
     ]
    },
    {
     "name": "stdout",
     "output_type": "stream",
     "text": [
      "Calculating the number of extrema\n"
     ]
    },
    {
     "name": "stderr",
     "output_type": "stream",
     "text": [
      "100%|██████████| 70313/70313 [00:01<00:00, 57978.30it/s]\n",
      "creating neighbour: 100%|██████████| 12304775/12304775 [00:40<00:00, 301401.29it/s]\n"
     ]
    },
    {
     "name": "stdout",
     "output_type": "stream",
     "text": [
      "['A', 'B', 'C', 'D', 'E'] Error/R3DSI0.csv 3 S 0\n",
      "Building Protein Graph for entire dataset\n"
     ]
    },
    {
     "name": "stderr",
     "output_type": "stream",
     "text": [
      "100%|██████████| 1147/1147 [00:00<00:00, 2040.67it/s]\n"
     ]
    },
    {
     "name": "stdout",
     "output_type": "stream",
     "text": [
      "Calculating the number of extrema\n"
     ]
    },
    {
     "name": "stderr",
     "output_type": "stream",
     "text": [
      "100%|██████████| 1147/1147 [00:00<00:00, 39342.72it/s]\n",
      "creating neighbour: 100%|██████████| 200725/200725 [00:00<00:00, 565479.09it/s]\n"
     ]
    },
    {
     "name": "stdout",
     "output_type": "stream",
     "text": [
      "['A', 'B', 'C', 'D', 'E'] Error/R6D5I1.csv 6 5 1\n",
      "Building Protein Graph for entire dataset\n"
     ]
    },
    {
     "name": "stderr",
     "output_type": "stream",
     "text": [
      "100%|██████████| 39063/39063 [00:13<00:00, 2905.83it/s]\n"
     ]
    },
    {
     "name": "stdout",
     "output_type": "stream",
     "text": [
      "Calculating the number of extrema\n"
     ]
    },
    {
     "name": "stderr",
     "output_type": "stream",
     "text": [
      "100%|██████████| 39063/39063 [00:00<00:00, 62802.23it/s]\n",
      "creating neighbour: 100%|██████████| 6836025/6836025 [00:15<00:00, 427321.80it/s]\n"
     ]
    },
    {
     "name": "stdout",
     "output_type": "stream",
     "text": [
      "['A', 'B', 'C', 'D', 'E'] Error/R6DSI1.csv 6 S 1\n",
      "Building Protein Graph for entire dataset\n"
     ]
    },
    {
     "name": "stderr",
     "output_type": "stream",
     "text": [
      "100%|██████████| 1144/1144 [00:00<00:00, 3007.81it/s]\n"
     ]
    },
    {
     "name": "stdout",
     "output_type": "stream",
     "text": [
      "Calculating the number of extrema\n"
     ]
    },
    {
     "name": "stderr",
     "output_type": "stream",
     "text": [
      "100%|██████████| 1144/1144 [00:00<00:00, 50857.29it/s]\n",
      "creating neighbour: 100%|██████████| 200200/200200 [00:00<00:00, 553256.23it/s]\n"
     ]
    },
    {
     "name": "stdout",
     "output_type": "stream",
     "text": [
      "['A', 'B', 'C', 'D', 'E'] Error/R3D5I1.csv 3 5 1\n",
      "Building Protein Graph for entire dataset\n"
     ]
    },
    {
     "name": "stderr",
     "output_type": "stream",
     "text": [
      "100%|██████████| 39063/39063 [00:13<00:00, 2858.38it/s]\n"
     ]
    },
    {
     "name": "stdout",
     "output_type": "stream",
     "text": [
      "Calculating the number of extrema\n"
     ]
    },
    {
     "name": "stderr",
     "output_type": "stream",
     "text": [
      "100%|██████████| 39063/39063 [00:00<00:00, 61092.48it/s]\n",
      "creating neighbour: 100%|██████████| 6836025/6836025 [00:18<00:00, 377757.98it/s]\n"
     ]
    },
    {
     "name": "stdout",
     "output_type": "stream",
     "text": [
      "['A', 'B', 'C', 'D', 'E'] Error/R0D5I0.csv 0 5 0\n",
      "Building Protein Graph for entire dataset\n"
     ]
    },
    {
     "name": "stderr",
     "output_type": "stream",
     "text": [
      "100%|██████████| 39063/39063 [00:13<00:00, 2832.10it/s]\n"
     ]
    },
    {
     "name": "stdout",
     "output_type": "stream",
     "text": [
      "Calculating the number of extrema\n"
     ]
    },
    {
     "name": "stderr",
     "output_type": "stream",
     "text": [
      "100%|██████████| 39063/39063 [00:00<00:00, 62137.35it/s]\n",
      "creating neighbour: 100%|██████████| 6836025/6836025 [00:18<00:00, 374149.29it/s]\n"
     ]
    },
    {
     "name": "stdout",
     "output_type": "stream",
     "text": [
      "['A', 'B', 'C', 'D', 'E'] Error/R0D7I2.csv 0 7 2\n",
      "Building Protein Graph for entire dataset\n"
     ]
    },
    {
     "name": "stderr",
     "output_type": "stream",
     "text": [
      "100%|██████████| 23438/23438 [00:07<00:00, 3049.00it/s]\n"
     ]
    },
    {
     "name": "stdout",
     "output_type": "stream",
     "text": [
      "Calculating the number of extrema\n"
     ]
    },
    {
     "name": "stderr",
     "output_type": "stream",
     "text": [
      "100%|██████████| 23438/23438 [00:00<00:00, 61672.70it/s]\n",
      "creating neighbour: 100%|██████████| 4101650/4101650 [00:09<00:00, 442919.62it/s]\n"
     ]
    },
    {
     "name": "stdout",
     "output_type": "stream",
     "text": [
      "['A', 'B', 'C', 'D', 'E'] Error/R6D9I2.csv 6 9 2\n",
      "Building Protein Graph for entire dataset\n"
     ]
    },
    {
     "name": "stderr",
     "output_type": "stream",
     "text": [
      "100%|██████████| 7813/7813 [00:02<00:00, 3445.86it/s]\n"
     ]
    },
    {
     "name": "stdout",
     "output_type": "stream",
     "text": [
      "Calculating the number of extrema\n"
     ]
    },
    {
     "name": "stderr",
     "output_type": "stream",
     "text": [
      "100%|██████████| 7813/7813 [00:00<00:00, 66396.85it/s]\n",
      "creating neighbour: 100%|██████████| 1367275/1367275 [00:02<00:00, 554420.01it/s]\n"
     ]
    },
    {
     "name": "stdout",
     "output_type": "stream",
     "text": [
      "['A', 'B', 'C', 'D', 'E'] Error/R3D3I0.csv 3 3 0\n",
      "Building Protein Graph for entire dataset\n"
     ]
    },
    {
     "name": "stderr",
     "output_type": "stream",
     "text": [
      "100%|██████████| 54688/54688 [00:23<00:00, 2332.41it/s]\n"
     ]
    },
    {
     "name": "stdout",
     "output_type": "stream",
     "text": [
      "Calculating the number of extrema\n"
     ]
    },
    {
     "name": "stderr",
     "output_type": "stream",
     "text": [
      "100%|██████████| 54688/54688 [00:00<00:00, 59544.52it/s]\n",
      "creating neighbour: 100%|██████████| 9570400/9570400 [00:27<00:00, 344869.07it/s]\n"
     ]
    },
    {
     "name": "stdout",
     "output_type": "stream",
     "text": [
      "['A', 'B', 'C', 'D', 'E'] Error/R6DSI0.csv 6 S 0\n",
      "Building Protein Graph for entire dataset\n"
     ]
    },
    {
     "name": "stderr",
     "output_type": "stream",
     "text": [
      "100%|██████████| 1146/1146 [00:00<00:00, 2870.64it/s]\n"
     ]
    },
    {
     "name": "stdout",
     "output_type": "stream",
     "text": [
      "Calculating the number of extrema\n"
     ]
    },
    {
     "name": "stderr",
     "output_type": "stream",
     "text": [
      "100%|██████████| 1146/1146 [00:00<00:00, 61707.07it/s]\n",
      "creating neighbour: 100%|██████████| 200550/200550 [00:00<00:00, 568244.03it/s]\n"
     ]
    },
    {
     "name": "stdout",
     "output_type": "stream",
     "text": [
      "['A', 'B', 'C', 'D', 'E'] Error/R6DSI4.csv 6 S 4\n",
      "Building Protein Graph for entire dataset\n"
     ]
    },
    {
     "name": "stderr",
     "output_type": "stream",
     "text": [
      "100%|██████████| 1154/1154 [00:00<00:00, 2731.53it/s]\n"
     ]
    },
    {
     "name": "stdout",
     "output_type": "stream",
     "text": [
      "Calculating the number of extrema\n"
     ]
    },
    {
     "name": "stderr",
     "output_type": "stream",
     "text": [
      "100%|██████████| 1154/1154 [00:00<00:00, 55391.58it/s]\n",
      "creating neighbour: 100%|██████████| 201950/201950 [00:00<00:00, 374484.47it/s]\n"
     ]
    },
    {
     "name": "stdout",
     "output_type": "stream",
     "text": [
      "['A', 'B', 'C', 'D', 'E'] Error/R0D3I3.csv 0 3 3\n",
      "Building Protein Graph for entire dataset\n"
     ]
    },
    {
     "name": "stderr",
     "output_type": "stream",
     "text": [
      "100%|██████████| 54688/54688 [00:23<00:00, 2282.10it/s]\n"
     ]
    },
    {
     "name": "stdout",
     "output_type": "stream",
     "text": [
      "Calculating the number of extrema\n"
     ]
    },
    {
     "name": "stderr",
     "output_type": "stream",
     "text": [
      "100%|██████████| 54688/54688 [00:00<00:00, 59269.29it/s]\n",
      "creating neighbour: 100%|██████████| 9570400/9570400 [00:27<00:00, 343727.74it/s]\n"
     ]
    },
    {
     "name": "stdout",
     "output_type": "stream",
     "text": [
      "['A', 'B', 'C', 'D', 'E'] Error/R0DSI4.csv 0 S 4\n",
      "Building Protein Graph for entire dataset\n"
     ]
    },
    {
     "name": "stderr",
     "output_type": "stream",
     "text": [
      "100%|██████████| 1154/1154 [00:00<00:00, 1959.01it/s]\n"
     ]
    },
    {
     "name": "stdout",
     "output_type": "stream",
     "text": [
      "Calculating the number of extrema\n"
     ]
    },
    {
     "name": "stderr",
     "output_type": "stream",
     "text": [
      "100%|██████████| 1154/1154 [00:00<00:00, 34034.57it/s]\n",
      "creating neighbour: 100%|██████████| 201950/201950 [00:00<00:00, 536882.27it/s]\n"
     ]
    },
    {
     "name": "stdout",
     "output_type": "stream",
     "text": [
      "['A', 'B', 'C', 'D', 'E'] Error/R3D1I4.csv 3 1 4\n",
      "Building Protein Graph for entire dataset\n"
     ]
    },
    {
     "name": "stderr",
     "output_type": "stream",
     "text": [
      "100%|██████████| 70313/70313 [00:29<00:00, 2384.40it/s]\n"
     ]
    },
    {
     "name": "stdout",
     "output_type": "stream",
     "text": [
      "Calculating the number of extrema\n"
     ]
    },
    {
     "name": "stderr",
     "output_type": "stream",
     "text": [
      "100%|██████████| 70313/70313 [00:01<00:00, 56185.03it/s]\n",
      "creating neighbour: 100%|██████████| 12304775/12304775 [00:38<00:00, 315628.89it/s]\n"
     ]
    },
    {
     "name": "stdout",
     "output_type": "stream",
     "text": [
      "['A', 'B', 'C', 'D', 'E'] Error/R3DSI4.csv 3 S 4\n",
      "Building Protein Graph for entire dataset\n"
     ]
    },
    {
     "name": "stderr",
     "output_type": "stream",
     "text": [
      "100%|██████████| 1164/1164 [00:00<00:00, 3048.42it/s]\n"
     ]
    },
    {
     "name": "stdout",
     "output_type": "stream",
     "text": [
      "Calculating the number of extrema\n"
     ]
    },
    {
     "name": "stderr",
     "output_type": "stream",
     "text": [
      "100%|██████████| 1164/1164 [00:00<00:00, 37822.53it/s]\n",
      "creating neighbour: 100%|██████████| 203700/203700 [00:00<00:00, 518904.71it/s]\n"
     ]
    },
    {
     "name": "stdout",
     "output_type": "stream",
     "text": [
      "['A', 'B', 'C', 'D', 'E'] Error/R6D3I0.csv 6 3 0\n",
      "Building Protein Graph for entire dataset\n"
     ]
    },
    {
     "name": "stderr",
     "output_type": "stream",
     "text": [
      "100%|██████████| 54688/54688 [00:23<00:00, 2321.63it/s]\n"
     ]
    },
    {
     "name": "stdout",
     "output_type": "stream",
     "text": [
      "Calculating the number of extrema\n"
     ]
    },
    {
     "name": "stderr",
     "output_type": "stream",
     "text": [
      "100%|██████████| 54688/54688 [00:00<00:00, 56616.39it/s]\n",
      "creating neighbour: 100%|██████████| 9570400/9570400 [00:26<00:00, 367771.56it/s]\n"
     ]
    },
    {
     "name": "stdout",
     "output_type": "stream",
     "text": [
      "['A', 'B', 'C', 'D', 'E'] Error/R6D9I1.csv 6 9 1\n",
      "Building Protein Graph for entire dataset\n"
     ]
    },
    {
     "name": "stderr",
     "output_type": "stream",
     "text": [
      "100%|██████████| 7813/7813 [00:02<00:00, 3594.03it/s]\n"
     ]
    },
    {
     "name": "stdout",
     "output_type": "stream",
     "text": [
      "Calculating the number of extrema\n"
     ]
    },
    {
     "name": "stderr",
     "output_type": "stream",
     "text": [
      "100%|██████████| 7813/7813 [00:00<00:00, 65090.03it/s]\n",
      "creating neighbour: 100%|██████████| 1367275/1367275 [00:02<00:00, 532137.79it/s]\n"
     ]
    },
    {
     "name": "stdout",
     "output_type": "stream",
     "text": [
      "['A', 'B', 'C', 'D', 'E'] Error/R0D5I4.csv 0 5 4\n",
      "Building Protein Graph for entire dataset\n"
     ]
    },
    {
     "name": "stderr",
     "output_type": "stream",
     "text": [
      "100%|██████████| 39063/39063 [00:14<00:00, 2759.83it/s]\n"
     ]
    },
    {
     "name": "stdout",
     "output_type": "stream",
     "text": [
      "Calculating the number of extrema\n"
     ]
    },
    {
     "name": "stderr",
     "output_type": "stream",
     "text": [
      "100%|██████████| 39063/39063 [00:00<00:00, 61545.47it/s]\n",
      "creating neighbour: 100%|██████████| 6836025/6836025 [00:18<00:00, 372996.25it/s]\n"
     ]
    },
    {
     "name": "stdout",
     "output_type": "stream",
     "text": [
      "['A', 'B', 'C', 'D', 'E'] Error/R3D3I2.csv 3 3 2\n",
      "Building Protein Graph for entire dataset\n"
     ]
    },
    {
     "name": "stderr",
     "output_type": "stream",
     "text": [
      "100%|██████████| 54688/54688 [00:21<00:00, 2539.41it/s]\n"
     ]
    },
    {
     "name": "stdout",
     "output_type": "stream",
     "text": [
      "Calculating the number of extrema\n"
     ]
    },
    {
     "name": "stderr",
     "output_type": "stream",
     "text": [
      "100%|██████████| 54688/54688 [00:01<00:00, 50732.49it/s]\n",
      "creating neighbour: 100%|██████████| 9570400/9570400 [00:27<00:00, 345154.52it/s]\n"
     ]
    },
    {
     "name": "stdout",
     "output_type": "stream",
     "text": [
      "['A', 'B', 'C', 'D', 'E'] Error/R0D9I0.csv 0 9 0\n",
      "Building Protein Graph for entire dataset\n"
     ]
    },
    {
     "name": "stderr",
     "output_type": "stream",
     "text": [
      "100%|██████████| 7813/7813 [00:02<00:00, 3512.63it/s]\n"
     ]
    },
    {
     "name": "stdout",
     "output_type": "stream",
     "text": [
      "Calculating the number of extrema\n"
     ]
    },
    {
     "name": "stderr",
     "output_type": "stream",
     "text": [
      "100%|██████████| 7813/7813 [00:00<00:00, 65098.69it/s]\n",
      "creating neighbour: 100%|██████████| 1367275/1367275 [00:03<00:00, 358016.61it/s]\n"
     ]
    },
    {
     "name": "stdout",
     "output_type": "stream",
     "text": [
      "['A', 'B', 'C', 'D', 'E'] Error/R3D9I0.csv 3 9 0\n",
      "Building Protein Graph for entire dataset\n"
     ]
    },
    {
     "name": "stderr",
     "output_type": "stream",
     "text": [
      "100%|██████████| 7813/7813 [00:02<00:00, 3665.32it/s]\n"
     ]
    },
    {
     "name": "stdout",
     "output_type": "stream",
     "text": [
      "Calculating the number of extrema\n"
     ]
    },
    {
     "name": "stderr",
     "output_type": "stream",
     "text": [
      "100%|██████████| 7813/7813 [00:00<00:00, 66340.66it/s]\n",
      "creating neighbour: 100%|██████████| 1367275/1367275 [00:02<00:00, 540974.42it/s]\n"
     ]
    },
    {
     "name": "stdout",
     "output_type": "stream",
     "text": [
      "['A', 'B', 'C', 'D', 'E'] Error/R6D1I4.csv 6 1 4\n",
      "Building Protein Graph for entire dataset\n"
     ]
    },
    {
     "name": "stderr",
     "output_type": "stream",
     "text": [
      "100%|██████████| 70313/70313 [00:30<00:00, 2318.29it/s]\n"
     ]
    },
    {
     "name": "stdout",
     "output_type": "stream",
     "text": [
      "Calculating the number of extrema\n"
     ]
    },
    {
     "name": "stderr",
     "output_type": "stream",
     "text": [
      "100%|██████████| 70313/70313 [00:01<00:00, 57093.80it/s]\n",
      "creating neighbour: 100%|██████████| 12304775/12304775 [00:38<00:00, 321359.69it/s]\n"
     ]
    }
   ],
   "source": [
    "import string\n",
    "import pandas as pd\n",
    "\n",
    "FILEEXPR = re.compile(\"R(\\d+)D(\\d+|S)I(\\d+).csv\")\n",
    "baseDir = \"Error\"\n",
    "\n",
    "algo_rug_row_list: List[Dict[str, Any]] = []\n",
    "\n",
    "\n",
    "for file in os.listdir(baseDir):\n",
    "    ruggness, drop, index = FILEEXPR.match(file).groups()\n",
    "    ruggness = int(ruggness)\n",
    "\n",
    "    library = list(string.ascii_uppercase[:5])\n",
    "\n",
    "    path = os.path.join(baseDir, file)\n",
    "    print(library, path, ruggness, drop, index)\n",
    "\n",
    "    model = Protein_Landscape(csv_path=path, amino_acids=library)\n",
    "    algo_rug_row_list.append(\n",
    "        {\n",
    "            \"algo\": \"extre\",\n",
    "            \"drop\": drop,\n",
    "            \"R\": ruggness,\n",
    "            \"index\": index,\n",
    "            \"val\": model.extrema_ruggedness,\n",
    "        }\n",
    "    )\n",
    "    algo_rug_row_list.append(\n",
    "        {\n",
    "            \"algo\": \"rs\",\n",
    "            \"drop\": drop,\n",
    "            \"R\": ruggness,\n",
    "            \"index\": index,\n",
    "            \"val\": model.RS_ruggedness,\n",
    "        }\n",
    "    )\n",
    "\n",
    "    args = SeqArgs()\n",
    "    args.sequence_label = \"Sequence\"\n",
    "    args.fitness_label = \"Fitness\"\n",
    "    scenery = SeqParser.parse(path, args)\n",
    "    meta = MetaData(scenery, library)\n",
    "\n",
    "    calculator = Ruggness(meta)\n",
    "    rug = calculator.calculate()\n",
    "    algo_rug_row_list.append(\n",
    "        {\"algo\": \"cliff\", \"drop\": drop, \"R\": ruggness, \"index\": index, \"val\": rug}\n",
    "    )\n",
    "\n",
    "algo_rug_range = pd.DataFrame(\n",
    "    algo_rug_row_list, columns=[\"algo\", \"drop\", \"R\", \"index\", \"val\"]\n",
    ")\n"
   ]
  },
  {
   "cell_type": "code",
   "execution_count": 3,
   "metadata": {},
   "outputs": [],
   "source": [
    "import seaborn as sns\n",
    "import matplotlib.pyplot as plt\n",
    "\n",
    "df = algo_rug_range\n",
    "\n",
    "plt.rcParams[\"font.sans-serif\"] = [\"SimHei\"]\n",
    "plt.rcParams[\"axes.unicode_minus\"] = False\n",
    "\n",
    "\n",
    "def plot(R: int):\n",
    "    plt.subplots(3, 1, constrained_layout=True, figsize=(6, 9))\n",
    "    plot_order = [\"0\", \"1\", \"3\", \"5\", \"7\", \"9\", \"S\"]\n",
    "\n",
    "    plt.subplot(3, 1, 1)\n",
    "    ax = sns.boxplot(\n",
    "        x=\"drop\",\n",
    "        y=\"val\",\n",
    "        data=df[(df[\"algo\"] == \"cliff\") & (df[\"R\"] == R)],\n",
    "        palette=\"pastel\",\n",
    "        width=0.5,\n",
    "        order=plot_order,\n",
    "    )\n",
    "    ax.set_title(\"cliff算法在B0-B6下评估粗糙度\")\n",
    "    ax.set(xlabel=\"测试数据集\", ylabel=f\"粗糙度(R={R})\")\n",
    "    labels = [f\"B{i}\" for i in range(7)]\n",
    "    ax.set_xticklabels(labels)\n",
    "\n",
    "    plt.subplot(3, 1, 2)\n",
    "    ax = sns.boxplot(\n",
    "        x=\"drop\",\n",
    "        y=\"val\",\n",
    "        data=df[(df[\"algo\"] == \"extre\") & (df[\"R\"] == R)],\n",
    "        palette=\"pastel\",\n",
    "        width=0.5,\n",
    "        order=plot_order,\n",
    "    )\n",
    "    ax.set_title(\"极值法在B0-B6下评估粗糙度\")\n",
    "    ax.set(xlabel=\"测试数据集\", ylabel=\"粗糙度(R={R})\")\n",
    "    labels = [f\"B{i}\" for i in range(7)]\n",
    "    ax.set_xticklabels(labels)\n",
    "\n",
    "    plt.subplot(3, 1, 3)\n",
    "    ax = sns.boxplot(\n",
    "        x=\"drop\",\n",
    "        y=\"val\",\n",
    "        data=df[(df[\"algo\"] == \"rs\") & (df[\"R\"] == R)],\n",
    "        palette=\"pastel\",\n",
    "        width=0.5,\n",
    "        order=plot_order,\n",
    "    )\n",
    "    ax.set_title(\"RS法在B0-B6下评估粗糙度\")\n",
    "    ax.set(xlabel=\"测试数据集\", ylabel=\"粗糙度(R={R})\")\n",
    "    labels = [f\"B{i}\" for i in range(7)]\n",
    "    ax.set_xticklabels(labels)\n"
   ]
  },
  {
   "cell_type": "code",
   "execution_count": 4,
   "metadata": {},
   "outputs": [
    {
     "data": {
      "image/png": "[encoded data removed]",
      "text/plain": [
       "<Figure size 600x900 with 3 Axes>"
      ]
     },
     "metadata": {},
     "output_type": "display_data"
    }
   ],
   "source": [
    "plot(0)\n"
   ]
  },
  {
   "cell_type": "code",
   "execution_count": 5,
   "metadata": {},
   "outputs": [
    {
     "data": {
      "image/png": "[encoded data removed]",
      "text/plain": [
       "<Figure size 600x900 with 3 Axes>"
      ]
     },
     "metadata": {},
     "output_type": "display_data"
    }
   ],
   "source": [
    "plot(3)\n"
   ]
  },
  {
   "cell_type": "code",
   "execution_count": 6,
   "metadata": {},
   "outputs": [
    {
     "data": {
      "image/png": "[encoded data removed]",
      "text/plain": [
       "<Figure size 600x900 with 3 Axes>"
      ]
     },
     "metadata": {},
     "output_type": "display_data"
    }
   ],
   "source": [
    "plot(6)\n"
   ]
  }
 ],
 "metadata": {
  "kernelspec": {
   "display_name": "cliff",
   "language": "python",
   "name": "python3"
  },
  "language_info": {
   "codemirror_mode": {
    "name": "ipython",
    "version": 3
   },
   "file_extension": ".py",
   "mimetype": "text/x-python",
   "name": "python",
   "nbconvert_exporter": "python",
   "pygments_lexer": "ipython3",
   "version": "3.10.10"
  },
  "orig_nbformat": 4
 },
 "nbformat": 4,
 "nbformat_minor": 2
}
